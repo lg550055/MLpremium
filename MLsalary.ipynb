{
  "nbformat": 4,
  "nbformat_minor": 0,
  "metadata": {
    "colab": {
      "name": "MLsalary.ipynb",
      "provenance": [],
      "authorship_tag": "ABX9TyOum9du1x0CMejqVhMcdbQT",
      "include_colab_link": true
    },
    "kernelspec": {
      "name": "python3",
      "display_name": "Python 3"
    },
    "language_info": {
      "name": "python"
    }
  },
  "cells": [
    {
      "cell_type": "markdown",
      "metadata": {
        "id": "view-in-github",
        "colab_type": "text"
      },
      "source": [
        "<a href=\"https://colab.research.google.com/github/lg550055/MLpremium/blob/main/MLsalary.ipynb\" target=\"_parent\"><img src=\"https://colab.research.google.com/assets/colab-badge.svg\" alt=\"Open In Colab\"/></a>"
      ]
    },
    {
      "cell_type": "markdown",
      "source": [
        "## Let's see if machine learning expertise leads to a salary premium\n",
        "We'll first import the libraries and the data, which we will then clean"
      ],
      "metadata": {
        "id": "IBVmfr697O50"
      }
    },
    {
      "cell_type": "code",
      "source": [
        "import pandas as pd\n",
        "import matplotlib.pyplot as plt\n",
        "import tensorflow as tf"
      ],
      "metadata": {
        "id": "vS--60O-2RcJ"
      },
      "execution_count": 103,
      "outputs": []
    },
    {
      "cell_type": "code",
      "source": [
        "df = pd.read_csv('https://download.data.world/s/3twunbcbeb7bvq5xgb2za5dd3ymzg4')\n",
        "df.head()"
      ],
      "metadata": {
        "colab": {
          "base_uri": "https://localhost:8080/",
          "height": 206
        },
        "id": "krcFVVt67g8T",
        "outputId": "60a98321-9a47-4b5a-d0e4-30105126a325"
      },
      "execution_count": 104,
      "outputs": [
        {
          "output_type": "execute_result",
          "data": {
            "text/html": [
              "\n",
              "  <div id=\"df-c2f41b33-4f3a-4001-8f89-01e39dfe5979\">\n",
              "    <div class=\"colab-df-container\">\n",
              "      <div>\n",
              "<style scoped>\n",
              "    .dataframe tbody tr th:only-of-type {\n",
              "        vertical-align: middle;\n",
              "    }\n",
              "\n",
              "    .dataframe tbody tr th {\n",
              "        vertical-align: top;\n",
              "    }\n",
              "\n",
              "    .dataframe thead th {\n",
              "        text-align: right;\n",
              "    }\n",
              "</style>\n",
              "<table border=\"1\" class=\"dataframe\">\n",
              "  <thead>\n",
              "    <tr style=\"text-align: right;\">\n",
              "      <th></th>\n",
              "      <th>q1</th>\n",
              "      <th>q4</th>\n",
              "      <th>q5</th>\n",
              "      <th>q6</th>\n",
              "      <th>q8</th>\n",
              "      <th>q15</th>\n",
              "      <th>q20</th>\n",
              "      <th>q24</th>\n",
              "    </tr>\n",
              "  </thead>\n",
              "  <tbody>\n",
              "    <tr>\n",
              "      <th>0</th>\n",
              "      <td>30-34</td>\n",
              "      <td>Master’s degree</td>\n",
              "      <td>Data Engineer</td>\n",
              "      <td>5-10 years</td>\n",
              "      <td>Python</td>\n",
              "      <td>1-2 years</td>\n",
              "      <td>10,000 or more employees</td>\n",
              "      <td>100,000-124,999</td>\n",
              "    </tr>\n",
              "    <tr>\n",
              "      <th>1</th>\n",
              "      <td>30-34</td>\n",
              "      <td>Master’s degree</td>\n",
              "      <td>Data Scientist</td>\n",
              "      <td>5-10 years</td>\n",
              "      <td>Python</td>\n",
              "      <td>3-4 years</td>\n",
              "      <td>250-999 employees</td>\n",
              "      <td>125,000-149,999</td>\n",
              "    </tr>\n",
              "    <tr>\n",
              "      <th>2</th>\n",
              "      <td>35-39</td>\n",
              "      <td>Doctoral degree</td>\n",
              "      <td>Research Scientist</td>\n",
              "      <td>1-2 years</td>\n",
              "      <td>R</td>\n",
              "      <td>Under 1 year</td>\n",
              "      <td>0-49 employees</td>\n",
              "      <td>30,000-39,999</td>\n",
              "    </tr>\n",
              "    <tr>\n",
              "      <th>3</th>\n",
              "      <td>50-54</td>\n",
              "      <td>Master’s degree</td>\n",
              "      <td>Software Engineer</td>\n",
              "      <td>20+ years</td>\n",
              "      <td>Python</td>\n",
              "      <td>1-2 years</td>\n",
              "      <td>50-249 employees</td>\n",
              "      <td>150,000-199,999</td>\n",
              "    </tr>\n",
              "    <tr>\n",
              "      <th>4</th>\n",
              "      <td>25-29</td>\n",
              "      <td>Master’s degree</td>\n",
              "      <td>Student</td>\n",
              "      <td>1-2 years</td>\n",
              "      <td>Python</td>\n",
              "      <td>1-2 years</td>\n",
              "      <td>NaN</td>\n",
              "      <td>NaN</td>\n",
              "    </tr>\n",
              "  </tbody>\n",
              "</table>\n",
              "</div>\n",
              "      <button class=\"colab-df-convert\" onclick=\"convertToInteractive('df-c2f41b33-4f3a-4001-8f89-01e39dfe5979')\"\n",
              "              title=\"Convert this dataframe to an interactive table.\"\n",
              "              style=\"display:none;\">\n",
              "        \n",
              "  <svg xmlns=\"http://www.w3.org/2000/svg\" height=\"24px\"viewBox=\"0 0 24 24\"\n",
              "       width=\"24px\">\n",
              "    <path d=\"M0 0h24v24H0V0z\" fill=\"none\"/>\n",
              "    <path d=\"M18.56 5.44l.94 2.06.94-2.06 2.06-.94-2.06-.94-.94-2.06-.94 2.06-2.06.94zm-11 1L8.5 8.5l.94-2.06 2.06-.94-2.06-.94L8.5 2.5l-.94 2.06-2.06.94zm10 10l.94 2.06.94-2.06 2.06-.94-2.06-.94-.94-2.06-.94 2.06-2.06.94z\"/><path d=\"M17.41 7.96l-1.37-1.37c-.4-.4-.92-.59-1.43-.59-.52 0-1.04.2-1.43.59L10.3 9.45l-7.72 7.72c-.78.78-.78 2.05 0 2.83L4 21.41c.39.39.9.59 1.41.59.51 0 1.02-.2 1.41-.59l7.78-7.78 2.81-2.81c.8-.78.8-2.07 0-2.86zM5.41 20L4 18.59l7.72-7.72 1.47 1.35L5.41 20z\"/>\n",
              "  </svg>\n",
              "      </button>\n",
              "      \n",
              "  <style>\n",
              "    .colab-df-container {\n",
              "      display:flex;\n",
              "      flex-wrap:wrap;\n",
              "      gap: 12px;\n",
              "    }\n",
              "\n",
              "    .colab-df-convert {\n",
              "      background-color: #E8F0FE;\n",
              "      border: none;\n",
              "      border-radius: 50%;\n",
              "      cursor: pointer;\n",
              "      display: none;\n",
              "      fill: #1967D2;\n",
              "      height: 32px;\n",
              "      padding: 0 0 0 0;\n",
              "      width: 32px;\n",
              "    }\n",
              "\n",
              "    .colab-df-convert:hover {\n",
              "      background-color: #E2EBFA;\n",
              "      box-shadow: 0px 1px 2px rgba(60, 64, 67, 0.3), 0px 1px 3px 1px rgba(60, 64, 67, 0.15);\n",
              "      fill: #174EA6;\n",
              "    }\n",
              "\n",
              "    [theme=dark] .colab-df-convert {\n",
              "      background-color: #3B4455;\n",
              "      fill: #D2E3FC;\n",
              "    }\n",
              "\n",
              "    [theme=dark] .colab-df-convert:hover {\n",
              "      background-color: #434B5C;\n",
              "      box-shadow: 0px 1px 3px 1px rgba(0, 0, 0, 0.15);\n",
              "      filter: drop-shadow(0px 1px 2px rgba(0, 0, 0, 0.3));\n",
              "      fill: #FFFFFF;\n",
              "    }\n",
              "  </style>\n",
              "\n",
              "      <script>\n",
              "        const buttonEl =\n",
              "          document.querySelector('#df-c2f41b33-4f3a-4001-8f89-01e39dfe5979 button.colab-df-convert');\n",
              "        buttonEl.style.display =\n",
              "          google.colab.kernel.accessAllowed ? 'block' : 'none';\n",
              "\n",
              "        async function convertToInteractive(key) {\n",
              "          const element = document.querySelector('#df-c2f41b33-4f3a-4001-8f89-01e39dfe5979');\n",
              "          const dataTable =\n",
              "            await google.colab.kernel.invokeFunction('convertToInteractive',\n",
              "                                                     [key], {});\n",
              "          if (!dataTable) return;\n",
              "\n",
              "          const docLinkHtml = 'Like what you see? Visit the ' +\n",
              "            '<a target=\"_blank\" href=https://colab.research.google.com/notebooks/data_table.ipynb>data table notebook</a>'\n",
              "            + ' to learn more about interactive tables.';\n",
              "          element.innerHTML = '';\n",
              "          dataTable['output_type'] = 'display_data';\n",
              "          await google.colab.output.renderOutput(dataTable, element);\n",
              "          const docLink = document.createElement('div');\n",
              "          docLink.innerHTML = docLinkHtml;\n",
              "          element.appendChild(docLink);\n",
              "        }\n",
              "      </script>\n",
              "    </div>\n",
              "  </div>\n",
              "  "
            ],
            "text/plain": [
              "      q1               q4  ...                       q20              q24\n",
              "0  30-34  Master’s degree  ...  10,000 or more employees  100,000-124,999\n",
              "1  30-34  Master’s degree  ...         250-999 employees  125,000-149,999\n",
              "2  35-39  Doctoral degree  ...            0-49 employees    30,000-39,999\n",
              "3  50-54  Master’s degree  ...          50-249 employees  150,000-199,999\n",
              "4  25-29  Master’s degree  ...                       NaN              NaN\n",
              "\n",
              "[5 rows x 8 columns]"
            ]
          },
          "metadata": {},
          "execution_count": 104
        }
      ]
    },
    {
      "cell_type": "markdown",
      "source": [
        "Clean the data: i. remove q5 and q8 columns and insert meaningful table headings, ii. convert text of columns to numbers, and  iii. eliminate empty (or NaN) entries."
      ],
      "metadata": {
        "id": "zRAqkWSd_TzY"
      }
    },
    {
      "cell_type": "code",
      "source": [
        "df = df.drop(columns=[\"q8\",'q5'])\n",
        "df = df.rename(columns={\"q1\": \"age\", \"q4\": \"degree\", \"q6\":\"codExperience\", \"q15\":\"MLexperience\", \"q20\":\"coSize\", \"q24\":\"salary\"})\n",
        "df.describe()"
      ],
      "metadata": {
        "colab": {
          "base_uri": "https://localhost:8080/",
          "height": 175
        },
        "id": "l-IN0n5l_1mv",
        "outputId": "7ccec8a6-6272-45f5-d1cc-24abbed617a6"
      },
      "execution_count": 105,
      "outputs": [
        {
          "output_type": "execute_result",
          "data": {
            "text/html": [
              "\n",
              "  <div id=\"df-60c95d98-cf1d-46e1-837c-9ac11f5c0bb8\">\n",
              "    <div class=\"colab-df-container\">\n",
              "      <div>\n",
              "<style scoped>\n",
              "    .dataframe tbody tr th:only-of-type {\n",
              "        vertical-align: middle;\n",
              "    }\n",
              "\n",
              "    .dataframe tbody tr th {\n",
              "        vertical-align: top;\n",
              "    }\n",
              "\n",
              "    .dataframe thead th {\n",
              "        text-align: right;\n",
              "    }\n",
              "</style>\n",
              "<table border=\"1\" class=\"dataframe\">\n",
              "  <thead>\n",
              "    <tr style=\"text-align: right;\">\n",
              "      <th></th>\n",
              "      <th>age</th>\n",
              "      <th>degree</th>\n",
              "      <th>codExperience</th>\n",
              "      <th>MLexperience</th>\n",
              "      <th>coSize</th>\n",
              "      <th>salary</th>\n",
              "    </tr>\n",
              "  </thead>\n",
              "  <tbody>\n",
              "    <tr>\n",
              "      <th>count</th>\n",
              "      <td>2237</td>\n",
              "      <td>2221</td>\n",
              "      <td>2183</td>\n",
              "      <td>1950</td>\n",
              "      <td>1550</td>\n",
              "      <td>1484</td>\n",
              "    </tr>\n",
              "    <tr>\n",
              "      <th>unique</th>\n",
              "      <td>11</td>\n",
              "      <td>7</td>\n",
              "      <td>7</td>\n",
              "      <td>9</td>\n",
              "      <td>5</td>\n",
              "      <td>25</td>\n",
              "    </tr>\n",
              "    <tr>\n",
              "      <th>top</th>\n",
              "      <td>30-34</td>\n",
              "      <td>Master’s degree</td>\n",
              "      <td>3-5 years</td>\n",
              "      <td>Under 1 year</td>\n",
              "      <td>10,000 or more employees</td>\n",
              "      <td>100,000-124,999</td>\n",
              "    </tr>\n",
              "    <tr>\n",
              "      <th>freq</th>\n",
              "      <td>398</td>\n",
              "      <td>1046</td>\n",
              "      <td>509</td>\n",
              "      <td>474</td>\n",
              "      <td>447</td>\n",
              "      <td>249</td>\n",
              "    </tr>\n",
              "  </tbody>\n",
              "</table>\n",
              "</div>\n",
              "      <button class=\"colab-df-convert\" onclick=\"convertToInteractive('df-60c95d98-cf1d-46e1-837c-9ac11f5c0bb8')\"\n",
              "              title=\"Convert this dataframe to an interactive table.\"\n",
              "              style=\"display:none;\">\n",
              "        \n",
              "  <svg xmlns=\"http://www.w3.org/2000/svg\" height=\"24px\"viewBox=\"0 0 24 24\"\n",
              "       width=\"24px\">\n",
              "    <path d=\"M0 0h24v24H0V0z\" fill=\"none\"/>\n",
              "    <path d=\"M18.56 5.44l.94 2.06.94-2.06 2.06-.94-2.06-.94-.94-2.06-.94 2.06-2.06.94zm-11 1L8.5 8.5l.94-2.06 2.06-.94-2.06-.94L8.5 2.5l-.94 2.06-2.06.94zm10 10l.94 2.06.94-2.06 2.06-.94-2.06-.94-.94-2.06-.94 2.06-2.06.94z\"/><path d=\"M17.41 7.96l-1.37-1.37c-.4-.4-.92-.59-1.43-.59-.52 0-1.04.2-1.43.59L10.3 9.45l-7.72 7.72c-.78.78-.78 2.05 0 2.83L4 21.41c.39.39.9.59 1.41.59.51 0 1.02-.2 1.41-.59l7.78-7.78 2.81-2.81c.8-.78.8-2.07 0-2.86zM5.41 20L4 18.59l7.72-7.72 1.47 1.35L5.41 20z\"/>\n",
              "  </svg>\n",
              "      </button>\n",
              "      \n",
              "  <style>\n",
              "    .colab-df-container {\n",
              "      display:flex;\n",
              "      flex-wrap:wrap;\n",
              "      gap: 12px;\n",
              "    }\n",
              "\n",
              "    .colab-df-convert {\n",
              "      background-color: #E8F0FE;\n",
              "      border: none;\n",
              "      border-radius: 50%;\n",
              "      cursor: pointer;\n",
              "      display: none;\n",
              "      fill: #1967D2;\n",
              "      height: 32px;\n",
              "      padding: 0 0 0 0;\n",
              "      width: 32px;\n",
              "    }\n",
              "\n",
              "    .colab-df-convert:hover {\n",
              "      background-color: #E2EBFA;\n",
              "      box-shadow: 0px 1px 2px rgba(60, 64, 67, 0.3), 0px 1px 3px 1px rgba(60, 64, 67, 0.15);\n",
              "      fill: #174EA6;\n",
              "    }\n",
              "\n",
              "    [theme=dark] .colab-df-convert {\n",
              "      background-color: #3B4455;\n",
              "      fill: #D2E3FC;\n",
              "    }\n",
              "\n",
              "    [theme=dark] .colab-df-convert:hover {\n",
              "      background-color: #434B5C;\n",
              "      box-shadow: 0px 1px 3px 1px rgba(0, 0, 0, 0.15);\n",
              "      filter: drop-shadow(0px 1px 2px rgba(0, 0, 0, 0.3));\n",
              "      fill: #FFFFFF;\n",
              "    }\n",
              "  </style>\n",
              "\n",
              "      <script>\n",
              "        const buttonEl =\n",
              "          document.querySelector('#df-60c95d98-cf1d-46e1-837c-9ac11f5c0bb8 button.colab-df-convert');\n",
              "        buttonEl.style.display =\n",
              "          google.colab.kernel.accessAllowed ? 'block' : 'none';\n",
              "\n",
              "        async function convertToInteractive(key) {\n",
              "          const element = document.querySelector('#df-60c95d98-cf1d-46e1-837c-9ac11f5c0bb8');\n",
              "          const dataTable =\n",
              "            await google.colab.kernel.invokeFunction('convertToInteractive',\n",
              "                                                     [key], {});\n",
              "          if (!dataTable) return;\n",
              "\n",
              "          const docLinkHtml = 'Like what you see? Visit the ' +\n",
              "            '<a target=\"_blank\" href=https://colab.research.google.com/notebooks/data_table.ipynb>data table notebook</a>'\n",
              "            + ' to learn more about interactive tables.';\n",
              "          element.innerHTML = '';\n",
              "          dataTable['output_type'] = 'display_data';\n",
              "          await google.colab.output.renderOutput(dataTable, element);\n",
              "          const docLink = document.createElement('div');\n",
              "          docLink.innerHTML = docLinkHtml;\n",
              "          element.appendChild(docLink);\n",
              "        }\n",
              "      </script>\n",
              "    </div>\n",
              "  </div>\n",
              "  "
            ],
            "text/plain": [
              "          age           degree  ...                    coSize           salary\n",
              "count    2237             2221  ...                      1550             1484\n",
              "unique     11                7  ...                         5               25\n",
              "top     30-34  Master’s degree  ...  10,000 or more employees  100,000-124,999\n",
              "freq      398             1046  ...                       447              249\n",
              "\n",
              "[4 rows x 6 columns]"
            ]
          },
          "metadata": {},
          "execution_count": 105
        }
      ]
    },
    {
      "cell_type": "code",
      "source": [
        "# exludes ranges under 40k (well below market) and over 300K (few data points / outliers)\n",
        "mapSalary = {'100,000-124,999':112, '125,000-149,999':132, '150,000-199,999':175, '70,000-79,999':75, '50,000-59,999':55, \n",
        "          '250,000-299,999':275, '60,000-69,999':65, '80,000-89,999':85, '40,000-49,999':45, '200,000-249,999':225, '90,000-99,999':95}\n",
        "df['salary'] = df['salary'].map(mapSalary)\n",
        "\n",
        "mapCexp = {'5-10 years':7.5, '20+ years':22, '1-2 years':1.5, '10-20 years':15, '3-5 years':4, '< 1 years':0.5}\n",
        "df['codExperience'] = df['codExperience'].map(mapCexp)\n",
        "\n",
        "mapMLexp = {'1-2 years':1.5, '3-4 years':3.5, 'Under 1 year':0.5, '5-10 years':7.5, '2-3 years': 2.5, '4-5 years':4.5, '20 or more years':22, '10-20 years':15}\n",
        "df['MLexperience'] = df['MLexperience'].map(mapMLexp)\n",
        "\n",
        "# excludes 18-21 b/c seemed to have many non-meaningful datapoints (e.g. coding experience > 20 yrs)\n",
        "mapAge = {'30-34':32, '50-54':52, '35-39':37, '45-49':47, '25-29':27, '40-44':42, '60-69':64.5, '22-24':23, '55-59':57, '70':70}\n",
        "df['age'] = df['age'].map(mapAge)\n",
        "\n",
        "mapDegree = {'Master’s degree':1.5, 'Doctoral degree':2, 'Bachelor’s degree':0.5, 'Some college/university study without earning a bachelor’s degree':0, 'Professional degree':1}\n",
        "df['degree'] = df['degree'].map(mapDegree)\n",
        "\n",
        "mapCo = {'10,000 or more employees':2, '250-999 employees':1.5, '50-249 employees':1.25, '0-49 employees':1, '1000-9,999 employees':1.75}\n",
        "df['coSize'] = df['coSize'].map(mapCo)"
      ],
      "metadata": {
        "id": "0PG3AGhHO80I"
      },
      "execution_count": 106,
      "outputs": []
    },
    {
      "cell_type": "code",
      "source": [
        "# delete rows with non meaningful entries in selected columns\n",
        "df.dropna(subset=['salary','MLexperience','codExperience','degree','age'], inplace=True)\n",
        "df.describe()"
      ],
      "metadata": {
        "id": "hQjRmqRMD-ha",
        "colab": {
          "base_uri": "https://localhost:8080/",
          "height": 300
        },
        "outputId": "eb366850-c711-4459-e778-7677700a05e9"
      },
      "execution_count": 107,
      "outputs": [
        {
          "output_type": "execute_result",
          "data": {
            "text/html": [
              "\n",
              "  <div id=\"df-59cbb1ec-ad43-4086-958f-227452eb8057\">\n",
              "    <div class=\"colab-df-container\">\n",
              "      <div>\n",
              "<style scoped>\n",
              "    .dataframe tbody tr th:only-of-type {\n",
              "        vertical-align: middle;\n",
              "    }\n",
              "\n",
              "    .dataframe tbody tr th {\n",
              "        vertical-align: top;\n",
              "    }\n",
              "\n",
              "    .dataframe thead th {\n",
              "        text-align: right;\n",
              "    }\n",
              "</style>\n",
              "<table border=\"1\" class=\"dataframe\">\n",
              "  <thead>\n",
              "    <tr style=\"text-align: right;\">\n",
              "      <th></th>\n",
              "      <th>age</th>\n",
              "      <th>degree</th>\n",
              "      <th>codExperience</th>\n",
              "      <th>MLexperience</th>\n",
              "      <th>coSize</th>\n",
              "      <th>salary</th>\n",
              "    </tr>\n",
              "  </thead>\n",
              "  <tbody>\n",
              "    <tr>\n",
              "      <th>count</th>\n",
              "      <td>1040.000000</td>\n",
              "      <td>1040.000000</td>\n",
              "      <td>1040.000000</td>\n",
              "      <td>1040.000000</td>\n",
              "      <td>1040.000000</td>\n",
              "      <td>1040.000000</td>\n",
              "    </tr>\n",
              "    <tr>\n",
              "      <th>mean</th>\n",
              "      <td>39.786538</td>\n",
              "      <td>1.345192</td>\n",
              "      <td>10.538462</td>\n",
              "      <td>4.272115</td>\n",
              "      <td>1.570673</td>\n",
              "      <td>128.524038</td>\n",
              "    </tr>\n",
              "    <tr>\n",
              "      <th>std</th>\n",
              "      <td>11.674982</td>\n",
              "      <td>0.562782</td>\n",
              "      <td>7.423071</td>\n",
              "      <td>4.840327</td>\n",
              "      <td>0.382555</td>\n",
              "      <td>52.535605</td>\n",
              "    </tr>\n",
              "    <tr>\n",
              "      <th>min</th>\n",
              "      <td>23.000000</td>\n",
              "      <td>0.000000</td>\n",
              "      <td>0.500000</td>\n",
              "      <td>0.500000</td>\n",
              "      <td>1.000000</td>\n",
              "      <td>45.000000</td>\n",
              "    </tr>\n",
              "    <tr>\n",
              "      <th>25%</th>\n",
              "      <td>32.000000</td>\n",
              "      <td>1.000000</td>\n",
              "      <td>4.000000</td>\n",
              "      <td>1.500000</td>\n",
              "      <td>1.250000</td>\n",
              "      <td>95.000000</td>\n",
              "    </tr>\n",
              "    <tr>\n",
              "      <th>50%</th>\n",
              "      <td>37.000000</td>\n",
              "      <td>1.500000</td>\n",
              "      <td>7.500000</td>\n",
              "      <td>2.500000</td>\n",
              "      <td>1.750000</td>\n",
              "      <td>112.000000</td>\n",
              "    </tr>\n",
              "    <tr>\n",
              "      <th>75%</th>\n",
              "      <td>47.000000</td>\n",
              "      <td>1.500000</td>\n",
              "      <td>15.000000</td>\n",
              "      <td>4.500000</td>\n",
              "      <td>2.000000</td>\n",
              "      <td>175.000000</td>\n",
              "    </tr>\n",
              "    <tr>\n",
              "      <th>max</th>\n",
              "      <td>70.000000</td>\n",
              "      <td>2.000000</td>\n",
              "      <td>22.000000</td>\n",
              "      <td>22.000000</td>\n",
              "      <td>2.000000</td>\n",
              "      <td>275.000000</td>\n",
              "    </tr>\n",
              "  </tbody>\n",
              "</table>\n",
              "</div>\n",
              "      <button class=\"colab-df-convert\" onclick=\"convertToInteractive('df-59cbb1ec-ad43-4086-958f-227452eb8057')\"\n",
              "              title=\"Convert this dataframe to an interactive table.\"\n",
              "              style=\"display:none;\">\n",
              "        \n",
              "  <svg xmlns=\"http://www.w3.org/2000/svg\" height=\"24px\"viewBox=\"0 0 24 24\"\n",
              "       width=\"24px\">\n",
              "    <path d=\"M0 0h24v24H0V0z\" fill=\"none\"/>\n",
              "    <path d=\"M18.56 5.44l.94 2.06.94-2.06 2.06-.94-2.06-.94-.94-2.06-.94 2.06-2.06.94zm-11 1L8.5 8.5l.94-2.06 2.06-.94-2.06-.94L8.5 2.5l-.94 2.06-2.06.94zm10 10l.94 2.06.94-2.06 2.06-.94-2.06-.94-.94-2.06-.94 2.06-2.06.94z\"/><path d=\"M17.41 7.96l-1.37-1.37c-.4-.4-.92-.59-1.43-.59-.52 0-1.04.2-1.43.59L10.3 9.45l-7.72 7.72c-.78.78-.78 2.05 0 2.83L4 21.41c.39.39.9.59 1.41.59.51 0 1.02-.2 1.41-.59l7.78-7.78 2.81-2.81c.8-.78.8-2.07 0-2.86zM5.41 20L4 18.59l7.72-7.72 1.47 1.35L5.41 20z\"/>\n",
              "  </svg>\n",
              "      </button>\n",
              "      \n",
              "  <style>\n",
              "    .colab-df-container {\n",
              "      display:flex;\n",
              "      flex-wrap:wrap;\n",
              "      gap: 12px;\n",
              "    }\n",
              "\n",
              "    .colab-df-convert {\n",
              "      background-color: #E8F0FE;\n",
              "      border: none;\n",
              "      border-radius: 50%;\n",
              "      cursor: pointer;\n",
              "      display: none;\n",
              "      fill: #1967D2;\n",
              "      height: 32px;\n",
              "      padding: 0 0 0 0;\n",
              "      width: 32px;\n",
              "    }\n",
              "\n",
              "    .colab-df-convert:hover {\n",
              "      background-color: #E2EBFA;\n",
              "      box-shadow: 0px 1px 2px rgba(60, 64, 67, 0.3), 0px 1px 3px 1px rgba(60, 64, 67, 0.15);\n",
              "      fill: #174EA6;\n",
              "    }\n",
              "\n",
              "    [theme=dark] .colab-df-convert {\n",
              "      background-color: #3B4455;\n",
              "      fill: #D2E3FC;\n",
              "    }\n",
              "\n",
              "    [theme=dark] .colab-df-convert:hover {\n",
              "      background-color: #434B5C;\n",
              "      box-shadow: 0px 1px 3px 1px rgba(0, 0, 0, 0.15);\n",
              "      filter: drop-shadow(0px 1px 2px rgba(0, 0, 0, 0.3));\n",
              "      fill: #FFFFFF;\n",
              "    }\n",
              "  </style>\n",
              "\n",
              "      <script>\n",
              "        const buttonEl =\n",
              "          document.querySelector('#df-59cbb1ec-ad43-4086-958f-227452eb8057 button.colab-df-convert');\n",
              "        buttonEl.style.display =\n",
              "          google.colab.kernel.accessAllowed ? 'block' : 'none';\n",
              "\n",
              "        async function convertToInteractive(key) {\n",
              "          const element = document.querySelector('#df-59cbb1ec-ad43-4086-958f-227452eb8057');\n",
              "          const dataTable =\n",
              "            await google.colab.kernel.invokeFunction('convertToInteractive',\n",
              "                                                     [key], {});\n",
              "          if (!dataTable) return;\n",
              "\n",
              "          const docLinkHtml = 'Like what you see? Visit the ' +\n",
              "            '<a target=\"_blank\" href=https://colab.research.google.com/notebooks/data_table.ipynb>data table notebook</a>'\n",
              "            + ' to learn more about interactive tables.';\n",
              "          element.innerHTML = '';\n",
              "          dataTable['output_type'] = 'display_data';\n",
              "          await google.colab.output.renderOutput(dataTable, element);\n",
              "          const docLink = document.createElement('div');\n",
              "          docLink.innerHTML = docLinkHtml;\n",
              "          element.appendChild(docLink);\n",
              "        }\n",
              "      </script>\n",
              "    </div>\n",
              "  </div>\n",
              "  "
            ],
            "text/plain": [
              "               age       degree  ...       coSize       salary\n",
              "count  1040.000000  1040.000000  ...  1040.000000  1040.000000\n",
              "mean     39.786538     1.345192  ...     1.570673   128.524038\n",
              "std      11.674982     0.562782  ...     0.382555    52.535605\n",
              "min      23.000000     0.000000  ...     1.000000    45.000000\n",
              "25%      32.000000     1.000000  ...     1.250000    95.000000\n",
              "50%      37.000000     1.500000  ...     1.750000   112.000000\n",
              "75%      47.000000     1.500000  ...     2.000000   175.000000\n",
              "max      70.000000     2.000000  ...     2.000000   275.000000\n",
              "\n",
              "[8 rows x 6 columns]"
            ]
          },
          "metadata": {},
          "execution_count": 107
        }
      ]
    },
    {
      "cell_type": "markdown",
      "source": [
        "### Plot the data to see if there are readily observable patterns (pairwise scatterplots of all attributes)"
      ],
      "metadata": {
        "id": "OhLuH-ZZ-L4H"
      }
    },
    {
      "cell_type": "code",
      "source": [
        "pd.plotting.scatter_matrix(df, figsize=(12,12))\n",
        "plt.show()"
      ],
      "metadata": {
        "colab": {
          "base_uri": "https://localhost:8080/",
          "height": 720
        },
        "id": "VEdKtRiuAOF-",
        "outputId": "497c7d79-6162-495d-aa72-23a79a4af3b9"
      },
      "execution_count": 108,
      "outputs": [
        {
          "output_type": "display_data",
          "data": {
            "image/png": "[encoded data removed]",
            "text/plain": [
              "<Figure size 864x864 with 36 Axes>"
            ]
          },
          "metadata": {
            "needs_background": "light"
          }
        }
      ]
    },
    {
      "cell_type": "markdown",
      "source": [
        "As one would expect, there seems to be a link between salaty and age, albeit not a strong one."
      ],
      "metadata": {
        "id": "xTRDDfDNF5w3"
      }
    },
    {
      "cell_type": "code",
      "source": [
        "adjData = df.loc[(df['age'] > 20) & (df['salary'] < 300)]\n",
        "plt.scatter(adjData['age'], adjData['salary'])\n",
        "plt.title('Salary vs Age')\n",
        "plt.xlabel('Age')\n",
        "plt.ylabel('Salary')\n",
        "plt.show()"
      ],
      "metadata": {
        "colab": {
          "base_uri": "https://localhost:8080/",
          "height": 295
        },
        "id": "dG-I4ARcNXEI",
        "outputId": "c9dca981-e764-4d58-b3aa-abd545e4c6fc"
      },
      "execution_count": 109,
      "outputs": [
        {
          "output_type": "display_data",
          "data": {
            "image/png": "[encoded data removed]",
            "text/plain": [
              "<Figure size 432x288 with 1 Axes>"
            ]
          },
          "metadata": {
            "needs_background": "light"
          }
        }
      ]
    },
    {
      "cell_type": "markdown",
      "source": [
        "#### Let's see if there is a machine learning premium by comparing the salary of programmers with 4 years of experience by years of ML experience"
      ],
      "metadata": {
        "id": "-ald4HzD7Ulj"
      }
    },
    {
      "cell_type": "code",
      "source": [
        "# Excludes salaries > 200k to increase the resolution, without affecting the general conclusion\n",
        "x4 = df.loc[(df['codExperience'] == 4) & (df['salary'] < 200)]\n",
        "plt.scatter(x4['MLexperience'],x4['salary'])\n",
        "plt.title('Salary vs ML experience - 3-5 yrs coding experience')\n",
        "plt.xlabel('ML experience')\n",
        "plt.ylabel('Salary')\n",
        "plt.show()"
      ],
      "metadata": {
        "colab": {
          "base_uri": "https://localhost:8080/",
          "height": 295
        },
        "id": "2X-jZg0v1bNz",
        "outputId": "65a8ffcd-1d8b-4d2d-d883-c224283c3fc2"
      },
      "execution_count": 110,
      "outputs": [
        {
          "output_type": "display_data",
          "data": {
            "image/png": "[encoded data removed]",
            "text/plain": [
              "<Figure size 432x288 with 1 Axes>"
            ]
          },
          "metadata": {
            "needs_background": "light"
          }
        }
      ]
    },
    {
      "cell_type": "markdown",
      "source": [
        "There also seems to be a slight ML experience salary premium.\n",
        "\n",
        "Let's see if this is also the case for for programmers with 7.5 years of experience."
      ],
      "metadata": {
        "id": "Bb_ops4Y71zH"
      }
    },
    {
      "cell_type": "code",
      "source": [
        "x2 = df.loc[df['codExperience'] == 7.5]\n",
        "plt.scatter(x2['MLexperience'],x2['salary'])\n",
        "plt.title('Salary vs ML experience - 5-10 yrs coding experience')\n",
        "plt.xlabel('ML experience')\n",
        "plt.ylabel('Salary')\n",
        "plt.show()"
      ],
      "metadata": {
        "colab": {
          "base_uri": "https://localhost:8080/",
          "height": 295
        },
        "id": "WV-2fdle49Pi",
        "outputId": "6637be43-67e3-4f8a-b537-ac380888191f"
      },
      "execution_count": 111,
      "outputs": [
        {
          "output_type": "display_data",
          "data": {
            "image/png": "[encoded data removed]",
            "text/plain": [
              "<Figure size 432x288 with 1 Axes>"
            ]
          },
          "metadata": {
            "needs_background": "light"
          }
        }
      ]
    },
    {
      "cell_type": "markdown",
      "source": [
        "### Let's use a ML model to see if we can better acertain if there is a ML salary premium"
      ],
      "metadata": {
        "id": "1VgfNarSGfwF"
      }
    },
    {
      "cell_type": "code",
      "source": [
        "# segment data into training and test sets\n",
        "train_data = df.sample(frac=0.8, random_state=0)\n",
        "test_data = df.drop(train_data.index)\n",
        "\n",
        "# split features from labels\n",
        "train_features = train_data.copy()\n",
        "test_features = test_data.copy()\n",
        "\n",
        "train_labels = train_features.pop('salary')\n",
        "test_labels = test_features.pop('salary')"
      ],
      "metadata": {
        "id": "UXZFVTBF6uUo"
      },
      "execution_count": 112,
      "outputs": []
    },
    {
      "cell_type": "code",
      "source": [
        "# Use normalization layer to prevent the scale of the inputs from affecting the gradient and output scale.\n",
        "normalizer = tf.keras.layers.Normalization(axis=-1)\n",
        "normalizer.adapt(train_features)"
      ],
      "metadata": {
        "id": "9zE-FHJ4toJM"
      },
      "execution_count": 113,
      "outputs": []
    },
    {
      "cell_type": "code",
      "source": [
        "model = tf.keras.Sequential([\n",
        "  normalizer,\n",
        "  tf.keras.layers.Dense(1)\n",
        "])"
      ],
      "metadata": {
        "id": "d3zZL0l6B8PO"
      },
      "execution_count": 114,
      "outputs": []
    },
    {
      "cell_type": "code",
      "source": [
        "# Use mean_absolute_error to lower sensitivity to outliers\n",
        "model.compile(loss='mean_absolute_error',\n",
        "              optimizer=tf.keras.optimizers.Adam(0.4))"
      ],
      "metadata": {
        "id": "irdjLd26DHSS"
      },
      "execution_count": 115,
      "outputs": []
    },
    {
      "cell_type": "code",
      "source": [
        "history = model.fit(train_features, train_labels, epochs=25, validation_split = 0.2)"
      ],
      "metadata": {
        "id": "QyBPy2d5FKH6",
        "colab": {
          "base_uri": "https://localhost:8080/"
        },
        "outputId": "970059ca-cf92-41b4-fa67-1df685488c36"
      },
      "execution_count": 127,
      "outputs": [
        {
          "output_type": "stream",
          "name": "stdout",
          "text": [
            "Epoch 1/25\n",
            "21/21 [==============================] - 0s 14ms/step - loss: 39.5850 - val_loss: 37.0955\n",
            "Epoch 2/25\n",
            "21/21 [==============================] - 0s 6ms/step - loss: 38.9736 - val_loss: 36.7340\n",
            "Epoch 3/25\n",
            "21/21 [==============================] - 0s 5ms/step - loss: 38.5554 - val_loss: 36.3461\n",
            "Epoch 4/25\n",
            "21/21 [==============================] - 0s 6ms/step - loss: 38.2047 - val_loss: 36.4061\n",
            "Epoch 5/25\n",
            "21/21 [==============================] - 0s 16ms/step - loss: 38.0287 - val_loss: 36.2073\n",
            "Epoch 6/25\n",
            "21/21 [==============================] - 0s 19ms/step - loss: 37.9177 - val_loss: 36.4626\n",
            "Epoch 7/25\n",
            "21/21 [==============================] - 0s 8ms/step - loss: 37.7980 - val_loss: 36.1928\n",
            "Epoch 8/25\n",
            "21/21 [==============================] - 0s 4ms/step - loss: 37.6841 - val_loss: 36.2309\n",
            "Epoch 9/25\n",
            "21/21 [==============================] - 0s 5ms/step - loss: 37.6747 - val_loss: 36.2251\n",
            "Epoch 10/25\n",
            "21/21 [==============================] - 0s 5ms/step - loss: 37.6031 - val_loss: 36.3174\n",
            "Epoch 11/25\n",
            "21/21 [==============================] - 0s 4ms/step - loss: 37.5852 - val_loss: 36.1740\n",
            "Epoch 12/25\n",
            "21/21 [==============================] - 0s 5ms/step - loss: 37.5256 - val_loss: 36.4878\n",
            "Epoch 13/25\n",
            "21/21 [==============================] - 0s 6ms/step - loss: 37.5255 - val_loss: 36.4401\n",
            "Epoch 14/25\n",
            "21/21 [==============================] - 0s 4ms/step - loss: 37.5449 - val_loss: 36.5405\n",
            "Epoch 15/25\n",
            "21/21 [==============================] - 0s 4ms/step - loss: 37.5394 - val_loss: 36.3702\n",
            "Epoch 16/25\n",
            "21/21 [==============================] - 0s 3ms/step - loss: 37.5442 - val_loss: 36.5021\n",
            "Epoch 17/25\n",
            "21/21 [==============================] - 0s 3ms/step - loss: 37.6007 - val_loss: 36.6174\n",
            "Epoch 18/25\n",
            "21/21 [==============================] - 0s 3ms/step - loss: 37.5561 - val_loss: 36.3563\n",
            "Epoch 19/25\n",
            "21/21 [==============================] - 0s 4ms/step - loss: 37.5601 - val_loss: 36.5067\n",
            "Epoch 20/25\n",
            "21/21 [==============================] - 0s 3ms/step - loss: 37.5246 - val_loss: 36.4077\n",
            "Epoch 21/25\n",
            "21/21 [==============================] - 0s 4ms/step - loss: 37.5358 - val_loss: 36.4330\n",
            "Epoch 22/25\n",
            "21/21 [==============================] - 0s 3ms/step - loss: 37.5426 - val_loss: 36.4479\n",
            "Epoch 23/25\n",
            "21/21 [==============================] - 0s 4ms/step - loss: 37.5025 - val_loss: 36.3450\n",
            "Epoch 24/25\n",
            "21/21 [==============================] - 0s 4ms/step - loss: 37.5917 - val_loss: 36.6756\n",
            "Epoch 25/25\n",
            "21/21 [==============================] - 0s 3ms/step - loss: 37.5088 - val_loss: 36.5844\n"
          ]
        }
      ]
    },
    {
      "cell_type": "code",
      "source": [
        "plt.plot(history.history['loss'], label='loss')\n",
        "plt.plot(history.history['val_loss'], label='val_loss')\n",
        "plt.ylim([0, 100])\n",
        "plt.xlabel('Epoch')\n",
        "plt.ylabel('Error')\n",
        "plt.legend()\n",
        "plt.show()"
      ],
      "metadata": {
        "colab": {
          "base_uri": "https://localhost:8080/",
          "height": 283
        },
        "id": "VWs3bu946Sd7",
        "outputId": "aa7c3195-44f3-4875-df49-fa9f5ca13861"
      },
      "execution_count": 128,
      "outputs": [
        {
          "output_type": "display_data",
          "data": {
            "image/png": "[encoded data removed]",
            "text/plain": [
              "<Figure size 432x288 with 1 Axes>"
            ]
          },
          "metadata": {
            "needs_background": "light"
          }
        }
      ]
    },
    {
      "cell_type": "code",
      "source": [
        "model.layers[1].kernel"
      ],
      "metadata": {
        "colab": {
          "base_uri": "https://localhost:8080/"
        },
        "id": "ir5IclXN8VeN",
        "outputId": "96647f59-c250-426f-dddd-a6dbf6ff06ef"
      },
      "execution_count": 118,
      "outputs": [
        {
          "output_type": "execute_result",
          "data": {
            "text/plain": [
              "<tf.Variable 'dense_12/kernel:0' shape=(5, 1) dtype=float32, numpy=\n",
              "array([[ 1.7231433],\n",
              "       [ 2.4748468],\n",
              "       [13.923374 ],\n",
              "       [12.544789 ],\n",
              "       [ 4.674265 ]], dtype=float32)>"
            ]
          },
          "metadata": {},
          "execution_count": 118
        }
      ]
    },
    {
      "cell_type": "code",
      "source": [
        "model.evaluate(test_features, test_labels, verbose=0)"
      ],
      "metadata": {
        "colab": {
          "base_uri": "https://localhost:8080/"
        },
        "id": "7hnFip1vGZeu",
        "outputId": "e00a2b14-2a65-498a-aa29-dd4a7e7f8dab"
      },
      "execution_count": 119,
      "outputs": [
        {
          "output_type": "execute_result",
          "data": {
            "text/plain": [
              "36.50413513183594"
            ]
          },
          "metadata": {},
          "execution_count": 119
        }
      ]
    },
    {
      "cell_type": "markdown",
      "source": [
        "Let's see if we get improvement from using a additional layers"
      ],
      "metadata": {
        "id": "peynRkDN-3lT"
      }
    },
    {
      "cell_type": "code",
      "source": [
        "dnn_model = tf.keras.Sequential([\n",
        "  normalizer,\n",
        "  tf.keras.layers.Dense(5),\n",
        "  tf.keras.layers.Dense(5),\n",
        "  tf.keras.layers.Dense(1)\n",
        "])"
      ],
      "metadata": {
        "id": "eTGSedlQ-2on"
      },
      "execution_count": 120,
      "outputs": []
    },
    {
      "cell_type": "code",
      "source": [
        "dnn_model.compile(loss='mean_absolute_error',\n",
        "              optimizer=tf.keras.optimizers.Adam(0.1))"
      ],
      "metadata": {
        "id": "PKMmv67v_lb4"
      },
      "execution_count": 121,
      "outputs": []
    },
    {
      "cell_type": "code",
      "source": [
        "dnn_history = dnn_model.fit(train_features, train_labels, epochs=5, validation_split = 0.2)"
      ],
      "metadata": {
        "colab": {
          "base_uri": "https://localhost:8080/"
        },
        "id": "Io-s3iVdCheT",
        "outputId": "17cc93b8-fa45-4c45-f186-2cdff0d9e410"
      },
      "execution_count": 122,
      "outputs": [
        {
          "output_type": "stream",
          "name": "stdout",
          "text": [
            "Epoch 1/5\n",
            "21/21 [==============================] - 1s 14ms/step - loss: 99.9746 - val_loss: 48.8880\n",
            "Epoch 2/5\n",
            "21/21 [==============================] - 0s 4ms/step - loss: 41.0830 - val_loss: 36.2722\n",
            "Epoch 3/5\n",
            "21/21 [==============================] - 0s 6ms/step - loss: 39.4482 - val_loss: 37.7579\n",
            "Epoch 4/5\n",
            "21/21 [==============================] - 0s 5ms/step - loss: 38.6808 - val_loss: 38.4543\n",
            "Epoch 5/5\n",
            "21/21 [==============================] - 0s 5ms/step - loss: 38.4138 - val_loss: 35.7519\n"
          ]
        }
      ]
    },
    {
      "cell_type": "code",
      "source": [
        "plt.plot(dnn_history.history['loss'], label='loss')\n",
        "plt.plot(dnn_history.history['val_loss'], label='val_loss')\n",
        "plt.ylim([0, 100])\n",
        "plt.xlabel('Epoch')\n",
        "plt.ylabel('Error')\n",
        "plt.legend()\n",
        "plt.show()"
      ],
      "metadata": {
        "colab": {
          "base_uri": "https://localhost:8080/",
          "height": 283
        },
        "id": "omNKHk8OClNP",
        "outputId": "589e8770-9f5d-4d4c-d0ab-3a2c5fb8ab70"
      },
      "execution_count": 123,
      "outputs": [
        {
          "output_type": "display_data",
          "data": {
            "image/png": "[encoded data removed]",
            "text/plain": [
              "<Figure size 432x288 with 1 Axes>"
            ]
          },
          "metadata": {
            "needs_background": "light"
          }
        }
      ]
    },
    {
      "cell_type": "code",
      "source": [
        "dnn_model.layers[3].kernel"
      ],
      "metadata": {
        "colab": {
          "base_uri": "https://localhost:8080/"
        },
        "id": "a5zLoTX9CpgJ",
        "outputId": "82821664-e6f9-4089-e993-a406b8e338d4"
      },
      "execution_count": 124,
      "outputs": [
        {
          "output_type": "execute_result",
          "data": {
            "text/plain": [
              "<tf.Variable 'dense_15/kernel:0' shape=(5, 1) dtype=float32, numpy=\n",
              "array([[ 1.4219935],\n",
              "       [-1.560762 ],\n",
              "       [ 1.6580012],\n",
              "       [ 1.3157018],\n",
              "       [ 1.8757355]], dtype=float32)>"
            ]
          },
          "metadata": {},
          "execution_count": 124
        }
      ]
    },
    {
      "cell_type": "code",
      "source": [
        "dnn_model.evaluate(test_features, test_labels, verbose=0)"
      ],
      "metadata": {
        "colab": {
          "base_uri": "https://localhost:8080/"
        },
        "id": "47JNsJM7GScy",
        "outputId": "02520372-4424-462a-f71f-1e30abc2e1e8"
      },
      "execution_count": 125,
      "outputs": [
        {
          "output_type": "execute_result",
          "data": {
            "text/plain": [
              "35.05939483642578"
            ]
          },
          "metadata": {},
          "execution_count": 125
        }
      ]
    },
    {
      "cell_type": "markdown",
      "source": [
        "#### Predictions\n",
        "Since there does not seem to be a significant difference between the one-layer model and the three-layer, we'll use the one-layer to make predictions on the test set"
      ],
      "metadata": {
        "id": "YkpTAp6YxpiK"
      }
    },
    {
      "cell_type": "code",
      "source": [
        "predictions = dnn_model.predict(test_features)\n",
        "plt.scatter(test_labels, predictions, c='green')\n",
        "plt.xlabel('Actual salary')\n",
        "plt.ylabel('Predicted salary')\n",
        "#plt.xlim([0, 200])\n",
        "#plt.ylim([50, 250])\n",
        "plt.show()"
      ],
      "metadata": {
        "colab": {
          "base_uri": "https://localhost:8080/",
          "height": 279
        },
        "id": "KR8AHVZXyDWW",
        "outputId": "e3e2cf87-94eb-452d-ec06-2c334e9fd354"
      },
      "execution_count": 126,
      "outputs": [
        {
          "output_type": "display_data",
          "data": {
            "image/png": "[encoded data removed]",
            "text/plain": [
              "<Figure size 432x288 with 1 Axes>"
            ]
          },
          "metadata": {
            "needs_background": "light"
          }
        }
      ]
    },
    {
      "cell_type": "markdown",
      "source": [
        "### Conclusion: The dataset makes it hard to draw definitive conclusions.  However, there seems to be a sligh premium to ML expertise\n"
      ],
      "metadata": {
        "id": "dXFsvQMAxQ6X"
      }
    }
  ]
}