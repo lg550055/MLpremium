{
  "nbformat": 4,
  "nbformat_minor": 0,
  "metadata": {
    "colab": {
      "name": "MLsalary.ipynb",
      "provenance": [],
      "authorship_tag": "ABX9TyNmE92jdwtCy0UBnEF9rmm5",
      "include_colab_link": true
    },
    "kernelspec": {
      "name": "python3",
      "display_name": "Python 3"
    },
    "language_info": {
      "name": "python"
    }
  },
  "cells": [
    {
      "cell_type": "markdown",
      "metadata": {
        "id": "view-in-github",
        "colab_type": "text"
      },
      "source": [
        "<a href=\"https://colab.research.google.com/github/lg550055/MLpremium/blob/main/MLsalary.ipynb\" target=\"_parent\"><img src=\"https://colab.research.google.com/assets/colab-badge.svg\" alt=\"Open In Colab\"/></a>"
      ]
    },
    {
      "cell_type": "markdown",
      "source": [
        "## Let's see if machine learning expertise leads to a salary premium\n",
        "We'll first import the libraries and the data, which we will then clean"
      ],
      "metadata": {
        "id": "IBVmfr697O50"
      }
    },
    {
      "cell_type": "code",
      "source": [
        "import pandas as pd\n",
        "import matplotlib.pyplot as plt\n",
        "import tensorflow as tf"
      ],
      "metadata": {
        "id": "vS--60O-2RcJ"
      },
      "execution_count": 1,
      "outputs": []
    },
    {
      "cell_type": "code",
      "source": [
        "df = pd.read_csv('https://download.data.world/s/3twunbcbeb7bvq5xgb2za5dd3ymzg4')\n",
        "df.head()"
      ],
      "metadata": {
        "colab": {
          "base_uri": "https://localhost:8080/",
          "height": 206
        },
        "id": "krcFVVt67g8T",
        "outputId": "7f69beaa-f6e2-459a-f4c5-d4191d0a375a"
      },
      "execution_count": 2,
      "outputs": [
        {
          "output_type": "execute_result",
          "data": {
            "text/html": [
              "\n",
              "  <div id=\"df-d23d540e-5658-4614-afa7-356c00aedae1\">\n",
              "    <div class=\"colab-df-container\">\n",
              "      <div>\n",
              "<style scoped>\n",
              "    .dataframe tbody tr th:only-of-type {\n",
              "        vertical-align: middle;\n",
              "    }\n",
              "\n",
              "    .dataframe tbody tr th {\n",
              "        vertical-align: top;\n",
              "    }\n",
              "\n",
              "    .dataframe thead th {\n",
              "        text-align: right;\n",
              "    }\n",
              "</style>\n",
              "<table border=\"1\" class=\"dataframe\">\n",
              "  <thead>\n",
              "    <tr style=\"text-align: right;\">\n",
              "      <th></th>\n",
              "      <th>q1</th>\n",
              "      <th>q4</th>\n",
              "      <th>q5</th>\n",
              "      <th>q6</th>\n",
              "      <th>q8</th>\n",
              "      <th>q15</th>\n",
              "      <th>q20</th>\n",
              "      <th>q24</th>\n",
              "    </tr>\n",
              "  </thead>\n",
              "  <tbody>\n",
              "    <tr>\n",
              "      <th>0</th>\n",
              "      <td>30-34</td>\n",
              "      <td>Master’s degree</td>\n",
              "      <td>Data Engineer</td>\n",
              "      <td>5-10 years</td>\n",
              "      <td>Python</td>\n",
              "      <td>1-2 years</td>\n",
              "      <td>10,000 or more employees</td>\n",
              "      <td>100,000-124,999</td>\n",
              "    </tr>\n",
              "    <tr>\n",
              "      <th>1</th>\n",
              "      <td>30-34</td>\n",
              "      <td>Master’s degree</td>\n",
              "      <td>Data Scientist</td>\n",
              "      <td>5-10 years</td>\n",
              "      <td>Python</td>\n",
              "      <td>3-4 years</td>\n",
              "      <td>250-999 employees</td>\n",
              "      <td>125,000-149,999</td>\n",
              "    </tr>\n",
              "    <tr>\n",
              "      <th>2</th>\n",
              "      <td>35-39</td>\n",
              "      <td>Doctoral degree</td>\n",
              "      <td>Research Scientist</td>\n",
              "      <td>1-2 years</td>\n",
              "      <td>R</td>\n",
              "      <td>Under 1 year</td>\n",
              "      <td>0-49 employees</td>\n",
              "      <td>30,000-39,999</td>\n",
              "    </tr>\n",
              "    <tr>\n",
              "      <th>3</th>\n",
              "      <td>50-54</td>\n",
              "      <td>Master’s degree</td>\n",
              "      <td>Software Engineer</td>\n",
              "      <td>20+ years</td>\n",
              "      <td>Python</td>\n",
              "      <td>1-2 years</td>\n",
              "      <td>50-249 employees</td>\n",
              "      <td>150,000-199,999</td>\n",
              "    </tr>\n",
              "    <tr>\n",
              "      <th>4</th>\n",
              "      <td>25-29</td>\n",
              "      <td>Master’s degree</td>\n",
              "      <td>Student</td>\n",
              "      <td>1-2 years</td>\n",
              "      <td>Python</td>\n",
              "      <td>1-2 years</td>\n",
              "      <td>NaN</td>\n",
              "      <td>NaN</td>\n",
              "    </tr>\n",
              "  </tbody>\n",
              "</table>\n",
              "</div>\n",
              "      <button class=\"colab-df-convert\" onclick=\"convertToInteractive('df-d23d540e-5658-4614-afa7-356c00aedae1')\"\n",
              "              title=\"Convert this dataframe to an interactive table.\"\n",
              "              style=\"display:none;\">\n",
              "        \n",
              "  <svg xmlns=\"http://www.w3.org/2000/svg\" height=\"24px\"viewBox=\"0 0 24 24\"\n",
              "       width=\"24px\">\n",
              "    <path d=\"M0 0h24v24H0V0z\" fill=\"none\"/>\n",
              "    <path d=\"M18.56 5.44l.94 2.06.94-2.06 2.06-.94-2.06-.94-.94-2.06-.94 2.06-2.06.94zm-11 1L8.5 8.5l.94-2.06 2.06-.94-2.06-.94L8.5 2.5l-.94 2.06-2.06.94zm10 10l.94 2.06.94-2.06 2.06-.94-2.06-.94-.94-2.06-.94 2.06-2.06.94z\"/><path d=\"M17.41 7.96l-1.37-1.37c-.4-.4-.92-.59-1.43-.59-.52 0-1.04.2-1.43.59L10.3 9.45l-7.72 7.72c-.78.78-.78 2.05 0 2.83L4 21.41c.39.39.9.59 1.41.59.51 0 1.02-.2 1.41-.59l7.78-7.78 2.81-2.81c.8-.78.8-2.07 0-2.86zM5.41 20L4 18.59l7.72-7.72 1.47 1.35L5.41 20z\"/>\n",
              "  </svg>\n",
              "      </button>\n",
              "      \n",
              "  <style>\n",
              "    .colab-df-container {\n",
              "      display:flex;\n",
              "      flex-wrap:wrap;\n",
              "      gap: 12px;\n",
              "    }\n",
              "\n",
              "    .colab-df-convert {\n",
              "      background-color: #E8F0FE;\n",
              "      border: none;\n",
              "      border-radius: 50%;\n",
              "      cursor: pointer;\n",
              "      display: none;\n",
              "      fill: #1967D2;\n",
              "      height: 32px;\n",
              "      padding: 0 0 0 0;\n",
              "      width: 32px;\n",
              "    }\n",
              "\n",
              "    .colab-df-convert:hover {\n",
              "      background-color: #E2EBFA;\n",
              "      box-shadow: 0px 1px 2px rgba(60, 64, 67, 0.3), 0px 1px 3px 1px rgba(60, 64, 67, 0.15);\n",
              "      fill: #174EA6;\n",
              "    }\n",
              "\n",
              "    [theme=dark] .colab-df-convert {\n",
              "      background-color: #3B4455;\n",
              "      fill: #D2E3FC;\n",
              "    }\n",
              "\n",
              "    [theme=dark] .colab-df-convert:hover {\n",
              "      background-color: #434B5C;\n",
              "      box-shadow: 0px 1px 3px 1px rgba(0, 0, 0, 0.15);\n",
              "      filter: drop-shadow(0px 1px 2px rgba(0, 0, 0, 0.3));\n",
              "      fill: #FFFFFF;\n",
              "    }\n",
              "  </style>\n",
              "\n",
              "      <script>\n",
              "        const buttonEl =\n",
              "          document.querySelector('#df-d23d540e-5658-4614-afa7-356c00aedae1 button.colab-df-convert');\n",
              "        buttonEl.style.display =\n",
              "          google.colab.kernel.accessAllowed ? 'block' : 'none';\n",
              "\n",
              "        async function convertToInteractive(key) {\n",
              "          const element = document.querySelector('#df-d23d540e-5658-4614-afa7-356c00aedae1');\n",
              "          const dataTable =\n",
              "            await google.colab.kernel.invokeFunction('convertToInteractive',\n",
              "                                                     [key], {});\n",
              "          if (!dataTable) return;\n",
              "\n",
              "          const docLinkHtml = 'Like what you see? Visit the ' +\n",
              "            '<a target=\"_blank\" href=https://colab.research.google.com/notebooks/data_table.ipynb>data table notebook</a>'\n",
              "            + ' to learn more about interactive tables.';\n",
              "          element.innerHTML = '';\n",
              "          dataTable['output_type'] = 'display_data';\n",
              "          await google.colab.output.renderOutput(dataTable, element);\n",
              "          const docLink = document.createElement('div');\n",
              "          docLink.innerHTML = docLinkHtml;\n",
              "          element.appendChild(docLink);\n",
              "        }\n",
              "      </script>\n",
              "    </div>\n",
              "  </div>\n",
              "  "
            ],
            "text/plain": [
              "      q1               q4  ...                       q20              q24\n",
              "0  30-34  Master’s degree  ...  10,000 or more employees  100,000-124,999\n",
              "1  30-34  Master’s degree  ...         250-999 employees  125,000-149,999\n",
              "2  35-39  Doctoral degree  ...            0-49 employees    30,000-39,999\n",
              "3  50-54  Master’s degree  ...          50-249 employees  150,000-199,999\n",
              "4  25-29  Master’s degree  ...                       NaN              NaN\n",
              "\n",
              "[5 rows x 8 columns]"
            ]
          },
          "metadata": {},
          "execution_count": 2
        }
      ]
    },
    {
      "cell_type": "markdown",
      "source": [
        "Clean the data: i. remove q5 and q8 columns and insert meaningful table headings, ii. convert text of columns to numbers, and  iii. eliminate empty (or NaN) entries."
      ],
      "metadata": {
        "id": "zRAqkWSd_TzY"
      }
    },
    {
      "cell_type": "code",
      "source": [
        "df = df.drop(columns=[\"q8\",'q5'])\n",
        "df = df.rename(columns={\"q1\": \"age\", \"q4\": \"degree\", \"q6\":\"codExperience\", \"q15\":\"MLexperience\", \"q20\":\"coSize\", \"q24\":\"salary\"})\n",
        "df.describe()"
      ],
      "metadata": {
        "colab": {
          "base_uri": "https://localhost:8080/",
          "height": 175
        },
        "id": "l-IN0n5l_1mv",
        "outputId": "9245a593-3070-4869-cf3f-f40d7348038a"
      },
      "execution_count": 3,
      "outputs": [
        {
          "output_type": "execute_result",
          "data": {
            "text/html": [
              "\n",
              "  <div id=\"df-d896e9e2-ee87-4052-92cf-41c78530fb2a\">\n",
              "    <div class=\"colab-df-container\">\n",
              "      <div>\n",
              "<style scoped>\n",
              "    .dataframe tbody tr th:only-of-type {\n",
              "        vertical-align: middle;\n",
              "    }\n",
              "\n",
              "    .dataframe tbody tr th {\n",
              "        vertical-align: top;\n",
              "    }\n",
              "\n",
              "    .dataframe thead th {\n",
              "        text-align: right;\n",
              "    }\n",
              "</style>\n",
              "<table border=\"1\" class=\"dataframe\">\n",
              "  <thead>\n",
              "    <tr style=\"text-align: right;\">\n",
              "      <th></th>\n",
              "      <th>age</th>\n",
              "      <th>degree</th>\n",
              "      <th>codExperience</th>\n",
              "      <th>MLexperience</th>\n",
              "      <th>coSize</th>\n",
              "      <th>salary</th>\n",
              "    </tr>\n",
              "  </thead>\n",
              "  <tbody>\n",
              "    <tr>\n",
              "      <th>count</th>\n",
              "      <td>2237</td>\n",
              "      <td>2221</td>\n",
              "      <td>2183</td>\n",
              "      <td>1950</td>\n",
              "      <td>1550</td>\n",
              "      <td>1484</td>\n",
              "    </tr>\n",
              "    <tr>\n",
              "      <th>unique</th>\n",
              "      <td>11</td>\n",
              "      <td>7</td>\n",
              "      <td>7</td>\n",
              "      <td>9</td>\n",
              "      <td>5</td>\n",
              "      <td>25</td>\n",
              "    </tr>\n",
              "    <tr>\n",
              "      <th>top</th>\n",
              "      <td>30-34</td>\n",
              "      <td>Master’s degree</td>\n",
              "      <td>3-5 years</td>\n",
              "      <td>Under 1 year</td>\n",
              "      <td>10,000 or more employees</td>\n",
              "      <td>100,000-124,999</td>\n",
              "    </tr>\n",
              "    <tr>\n",
              "      <th>freq</th>\n",
              "      <td>398</td>\n",
              "      <td>1046</td>\n",
              "      <td>509</td>\n",
              "      <td>474</td>\n",
              "      <td>447</td>\n",
              "      <td>249</td>\n",
              "    </tr>\n",
              "  </tbody>\n",
              "</table>\n",
              "</div>\n",
              "      <button class=\"colab-df-convert\" onclick=\"convertToInteractive('df-d896e9e2-ee87-4052-92cf-41c78530fb2a')\"\n",
              "              title=\"Convert this dataframe to an interactive table.\"\n",
              "              style=\"display:none;\">\n",
              "        \n",
              "  <svg xmlns=\"http://www.w3.org/2000/svg\" height=\"24px\"viewBox=\"0 0 24 24\"\n",
              "       width=\"24px\">\n",
              "    <path d=\"M0 0h24v24H0V0z\" fill=\"none\"/>\n",
              "    <path d=\"M18.56 5.44l.94 2.06.94-2.06 2.06-.94-2.06-.94-.94-2.06-.94 2.06-2.06.94zm-11 1L8.5 8.5l.94-2.06 2.06-.94-2.06-.94L8.5 2.5l-.94 2.06-2.06.94zm10 10l.94 2.06.94-2.06 2.06-.94-2.06-.94-.94-2.06-.94 2.06-2.06.94z\"/><path d=\"M17.41 7.96l-1.37-1.37c-.4-.4-.92-.59-1.43-.59-.52 0-1.04.2-1.43.59L10.3 9.45l-7.72 7.72c-.78.78-.78 2.05 0 2.83L4 21.41c.39.39.9.59 1.41.59.51 0 1.02-.2 1.41-.59l7.78-7.78 2.81-2.81c.8-.78.8-2.07 0-2.86zM5.41 20L4 18.59l7.72-7.72 1.47 1.35L5.41 20z\"/>\n",
              "  </svg>\n",
              "      </button>\n",
              "      \n",
              "  <style>\n",
              "    .colab-df-container {\n",
              "      display:flex;\n",
              "      flex-wrap:wrap;\n",
              "      gap: 12px;\n",
              "    }\n",
              "\n",
              "    .colab-df-convert {\n",
              "      background-color: #E8F0FE;\n",
              "      border: none;\n",
              "      border-radius: 50%;\n",
              "      cursor: pointer;\n",
              "      display: none;\n",
              "      fill: #1967D2;\n",
              "      height: 32px;\n",
              "      padding: 0 0 0 0;\n",
              "      width: 32px;\n",
              "    }\n",
              "\n",
              "    .colab-df-convert:hover {\n",
              "      background-color: #E2EBFA;\n",
              "      box-shadow: 0px 1px 2px rgba(60, 64, 67, 0.3), 0px 1px 3px 1px rgba(60, 64, 67, 0.15);\n",
              "      fill: #174EA6;\n",
              "    }\n",
              "\n",
              "    [theme=dark] .colab-df-convert {\n",
              "      background-color: #3B4455;\n",
              "      fill: #D2E3FC;\n",
              "    }\n",
              "\n",
              "    [theme=dark] .colab-df-convert:hover {\n",
              "      background-color: #434B5C;\n",
              "      box-shadow: 0px 1px 3px 1px rgba(0, 0, 0, 0.15);\n",
              "      filter: drop-shadow(0px 1px 2px rgba(0, 0, 0, 0.3));\n",
              "      fill: #FFFFFF;\n",
              "    }\n",
              "  </style>\n",
              "\n",
              "      <script>\n",
              "        const buttonEl =\n",
              "          document.querySelector('#df-d896e9e2-ee87-4052-92cf-41c78530fb2a button.colab-df-convert');\n",
              "        buttonEl.style.display =\n",
              "          google.colab.kernel.accessAllowed ? 'block' : 'none';\n",
              "\n",
              "        async function convertToInteractive(key) {\n",
              "          const element = document.querySelector('#df-d896e9e2-ee87-4052-92cf-41c78530fb2a');\n",
              "          const dataTable =\n",
              "            await google.colab.kernel.invokeFunction('convertToInteractive',\n",
              "                                                     [key], {});\n",
              "          if (!dataTable) return;\n",
              "\n",
              "          const docLinkHtml = 'Like what you see? Visit the ' +\n",
              "            '<a target=\"_blank\" href=https://colab.research.google.com/notebooks/data_table.ipynb>data table notebook</a>'\n",
              "            + ' to learn more about interactive tables.';\n",
              "          element.innerHTML = '';\n",
              "          dataTable['output_type'] = 'display_data';\n",
              "          await google.colab.output.renderOutput(dataTable, element);\n",
              "          const docLink = document.createElement('div');\n",
              "          docLink.innerHTML = docLinkHtml;\n",
              "          element.appendChild(docLink);\n",
              "        }\n",
              "      </script>\n",
              "    </div>\n",
              "  </div>\n",
              "  "
            ],
            "text/plain": [
              "          age           degree  ...                    coSize           salary\n",
              "count    2237             2221  ...                      1550             1484\n",
              "unique     11                7  ...                         5               25\n",
              "top     30-34  Master’s degree  ...  10,000 or more employees  100,000-124,999\n",
              "freq      398             1046  ...                       447              249\n",
              "\n",
              "[4 rows x 6 columns]"
            ]
          },
          "metadata": {},
          "execution_count": 3
        }
      ]
    },
    {
      "cell_type": "code",
      "source": [
        "# exludes ranges under 40k, which are well below market\n",
        "mapSalary = {'100,000-124,999':112, '125,000-149,999':132, '150,000-199,999':175, '70,000-79,999':75, '50,000-59,999':55, '> $500,000':555,\n",
        "          '250,000-299,999':275, '60,000-69,999':65, '80,000-89,999':85, '300,000-500,000':400, '40,000-49,999':45, '200,000-249,999':225, '90,000-99,999':95}\n",
        "df['salary'] = df['salary'].map(mapSalary)\n",
        "\n",
        "mapCexp = {'5-10 years':7.5, '20+ years':22, '1-2 years':1.5, '10-20 years':15, '3-5 years':4, '< 1 years':0.5}\n",
        "df['codExperience'] = df['codExperience'].map(mapCexp)\n",
        "\n",
        "mapMLexp = {'1-2 years':1.5, '3-4 years':3.5, 'Under 1 year':0.5, '5-10 years':7.5, '2-3 years': 2.5, '4-5 years':4.5, '20 or more years':22, '10-20 years':15}\n",
        "df['MLexperience'] = df['MLexperience'].map(mapMLexp)\n",
        "\n",
        "mapAge = {'30-34':32, '50-54':52, '35-39':37, '45-49':47, '25-29':27, '40-44':42, '60-69':64.5, '22-24':23, '55-59':57, '70':70, '18-21':19.5}\n",
        "df['age'] = df['age'].map(mapAge)\n",
        "\n",
        "mapDegree = {'Master’s degree':1.5, 'Doctoral degree':2, 'Bachelor’s degree':0.5, 'Some college/university study without earning a bachelor’s degree':0, 'Professional degree':1}\n",
        "df['degree'] = df['degree'].map(mapDegree)\n",
        "\n",
        "mapCo = {'10,000 or more employees':2, '250-999 employees':1.5, '50-249 employees':1.25, '0-49 employees':1, '1000-9,999 employees':1.75}\n",
        "df['coSize'] = df['coSize'].map(mapCo)"
      ],
      "metadata": {
        "id": "0PG3AGhHO80I"
      },
      "execution_count": 4,
      "outputs": []
    },
    {
      "cell_type": "code",
      "source": [
        "# delete rows with non meaningful entries in selected columns\n",
        "df.dropna(subset=['salary','MLexperience','codExperience','degree'], inplace=True)\n",
        "df.describe()"
      ],
      "metadata": {
        "id": "hQjRmqRMD-ha",
        "colab": {
          "base_uri": "https://localhost:8080/",
          "height": 300
        },
        "outputId": "1f2a9655-1361-4ff7-cb46-a999871668cf"
      },
      "execution_count": 5,
      "outputs": [
        {
          "output_type": "execute_result",
          "data": {
            "text/html": [
              "\n",
              "  <div id=\"df-5a942a28-315b-4e1a-9591-3c7db35d8736\">\n",
              "    <div class=\"colab-df-container\">\n",
              "      <div>\n",
              "<style scoped>\n",
              "    .dataframe tbody tr th:only-of-type {\n",
              "        vertical-align: middle;\n",
              "    }\n",
              "\n",
              "    .dataframe tbody tr th {\n",
              "        vertical-align: top;\n",
              "    }\n",
              "\n",
              "    .dataframe thead th {\n",
              "        text-align: right;\n",
              "    }\n",
              "</style>\n",
              "<table border=\"1\" class=\"dataframe\">\n",
              "  <thead>\n",
              "    <tr style=\"text-align: right;\">\n",
              "      <th></th>\n",
              "      <th>age</th>\n",
              "      <th>degree</th>\n",
              "      <th>codExperience</th>\n",
              "      <th>MLexperience</th>\n",
              "      <th>coSize</th>\n",
              "      <th>salary</th>\n",
              "    </tr>\n",
              "  </thead>\n",
              "  <tbody>\n",
              "    <tr>\n",
              "      <th>count</th>\n",
              "      <td>1087.000000</td>\n",
              "      <td>1087.000000</td>\n",
              "      <td>1087.000000</td>\n",
              "      <td>1087.000000</td>\n",
              "      <td>1087.000000</td>\n",
              "      <td>1087.000000</td>\n",
              "    </tr>\n",
              "    <tr>\n",
              "      <th>mean</th>\n",
              "      <td>39.840846</td>\n",
              "      <td>1.353266</td>\n",
              "      <td>10.774609</td>\n",
              "      <td>4.466421</td>\n",
              "      <td>1.574287</td>\n",
              "      <td>141.425943</td>\n",
              "    </tr>\n",
              "    <tr>\n",
              "      <th>std</th>\n",
              "      <td>11.633858</td>\n",
              "      <td>0.566357</td>\n",
              "      <td>7.466394</td>\n",
              "      <td>5.003178</td>\n",
              "      <td>0.383162</td>\n",
              "      <td>81.517094</td>\n",
              "    </tr>\n",
              "    <tr>\n",
              "      <th>min</th>\n",
              "      <td>19.500000</td>\n",
              "      <td>0.000000</td>\n",
              "      <td>0.500000</td>\n",
              "      <td>0.500000</td>\n",
              "      <td>1.000000</td>\n",
              "      <td>45.000000</td>\n",
              "    </tr>\n",
              "    <tr>\n",
              "      <th>25%</th>\n",
              "      <td>32.000000</td>\n",
              "      <td>1.000000</td>\n",
              "      <td>4.000000</td>\n",
              "      <td>1.500000</td>\n",
              "      <td>1.250000</td>\n",
              "      <td>95.000000</td>\n",
              "    </tr>\n",
              "    <tr>\n",
              "      <th>50%</th>\n",
              "      <td>37.000000</td>\n",
              "      <td>1.500000</td>\n",
              "      <td>7.500000</td>\n",
              "      <td>2.500000</td>\n",
              "      <td>1.750000</td>\n",
              "      <td>112.000000</td>\n",
              "    </tr>\n",
              "    <tr>\n",
              "      <th>75%</th>\n",
              "      <td>47.000000</td>\n",
              "      <td>1.500000</td>\n",
              "      <td>15.000000</td>\n",
              "      <td>4.500000</td>\n",
              "      <td>2.000000</td>\n",
              "      <td>175.000000</td>\n",
              "    </tr>\n",
              "    <tr>\n",
              "      <th>max</th>\n",
              "      <td>70.000000</td>\n",
              "      <td>2.000000</td>\n",
              "      <td>22.000000</td>\n",
              "      <td>22.000000</td>\n",
              "      <td>2.000000</td>\n",
              "      <td>555.000000</td>\n",
              "    </tr>\n",
              "  </tbody>\n",
              "</table>\n",
              "</div>\n",
              "      <button class=\"colab-df-convert\" onclick=\"convertToInteractive('df-5a942a28-315b-4e1a-9591-3c7db35d8736')\"\n",
              "              title=\"Convert this dataframe to an interactive table.\"\n",
              "              style=\"display:none;\">\n",
              "        \n",
              "  <svg xmlns=\"http://www.w3.org/2000/svg\" height=\"24px\"viewBox=\"0 0 24 24\"\n",
              "       width=\"24px\">\n",
              "    <path d=\"M0 0h24v24H0V0z\" fill=\"none\"/>\n",
              "    <path d=\"M18.56 5.44l.94 2.06.94-2.06 2.06-.94-2.06-.94-.94-2.06-.94 2.06-2.06.94zm-11 1L8.5 8.5l.94-2.06 2.06-.94-2.06-.94L8.5 2.5l-.94 2.06-2.06.94zm10 10l.94 2.06.94-2.06 2.06-.94-2.06-.94-.94-2.06-.94 2.06-2.06.94z\"/><path d=\"M17.41 7.96l-1.37-1.37c-.4-.4-.92-.59-1.43-.59-.52 0-1.04.2-1.43.59L10.3 9.45l-7.72 7.72c-.78.78-.78 2.05 0 2.83L4 21.41c.39.39.9.59 1.41.59.51 0 1.02-.2 1.41-.59l7.78-7.78 2.81-2.81c.8-.78.8-2.07 0-2.86zM5.41 20L4 18.59l7.72-7.72 1.47 1.35L5.41 20z\"/>\n",
              "  </svg>\n",
              "      </button>\n",
              "      \n",
              "  <style>\n",
              "    .colab-df-container {\n",
              "      display:flex;\n",
              "      flex-wrap:wrap;\n",
              "      gap: 12px;\n",
              "    }\n",
              "\n",
              "    .colab-df-convert {\n",
              "      background-color: #E8F0FE;\n",
              "      border: none;\n",
              "      border-radius: 50%;\n",
              "      cursor: pointer;\n",
              "      display: none;\n",
              "      fill: #1967D2;\n",
              "      height: 32px;\n",
              "      padding: 0 0 0 0;\n",
              "      width: 32px;\n",
              "    }\n",
              "\n",
              "    .colab-df-convert:hover {\n",
              "      background-color: #E2EBFA;\n",
              "      box-shadow: 0px 1px 2px rgba(60, 64, 67, 0.3), 0px 1px 3px 1px rgba(60, 64, 67, 0.15);\n",
              "      fill: #174EA6;\n",
              "    }\n",
              "\n",
              "    [theme=dark] .colab-df-convert {\n",
              "      background-color: #3B4455;\n",
              "      fill: #D2E3FC;\n",
              "    }\n",
              "\n",
              "    [theme=dark] .colab-df-convert:hover {\n",
              "      background-color: #434B5C;\n",
              "      box-shadow: 0px 1px 3px 1px rgba(0, 0, 0, 0.15);\n",
              "      filter: drop-shadow(0px 1px 2px rgba(0, 0, 0, 0.3));\n",
              "      fill: #FFFFFF;\n",
              "    }\n",
              "  </style>\n",
              "\n",
              "      <script>\n",
              "        const buttonEl =\n",
              "          document.querySelector('#df-5a942a28-315b-4e1a-9591-3c7db35d8736 button.colab-df-convert');\n",
              "        buttonEl.style.display =\n",
              "          google.colab.kernel.accessAllowed ? 'block' : 'none';\n",
              "\n",
              "        async function convertToInteractive(key) {\n",
              "          const element = document.querySelector('#df-5a942a28-315b-4e1a-9591-3c7db35d8736');\n",
              "          const dataTable =\n",
              "            await google.colab.kernel.invokeFunction('convertToInteractive',\n",
              "                                                     [key], {});\n",
              "          if (!dataTable) return;\n",
              "\n",
              "          const docLinkHtml = 'Like what you see? Visit the ' +\n",
              "            '<a target=\"_blank\" href=https://colab.research.google.com/notebooks/data_table.ipynb>data table notebook</a>'\n",
              "            + ' to learn more about interactive tables.';\n",
              "          element.innerHTML = '';\n",
              "          dataTable['output_type'] = 'display_data';\n",
              "          await google.colab.output.renderOutput(dataTable, element);\n",
              "          const docLink = document.createElement('div');\n",
              "          docLink.innerHTML = docLinkHtml;\n",
              "          element.appendChild(docLink);\n",
              "        }\n",
              "      </script>\n",
              "    </div>\n",
              "  </div>\n",
              "  "
            ],
            "text/plain": [
              "               age       degree  ...       coSize       salary\n",
              "count  1087.000000  1087.000000  ...  1087.000000  1087.000000\n",
              "mean     39.840846     1.353266  ...     1.574287   141.425943\n",
              "std      11.633858     0.566357  ...     0.383162    81.517094\n",
              "min      19.500000     0.000000  ...     1.000000    45.000000\n",
              "25%      32.000000     1.000000  ...     1.250000    95.000000\n",
              "50%      37.000000     1.500000  ...     1.750000   112.000000\n",
              "75%      47.000000     1.500000  ...     2.000000   175.000000\n",
              "max      70.000000     2.000000  ...     2.000000   555.000000\n",
              "\n",
              "[8 rows x 6 columns]"
            ]
          },
          "metadata": {},
          "execution_count": 5
        }
      ]
    },
    {
      "cell_type": "markdown",
      "source": [
        "### Plot the data to see if there are readily observable patterns"
      ],
      "metadata": {
        "id": "OhLuH-ZZ-L4H"
      }
    },
    {
      "cell_type": "code",
      "source": [
        "# Salary histogram of all data\n",
        "x = df['salary']\n",
        "plt.hist(x,15)\n",
        "plt.xlabel('Salary')\n",
        "plt.ylabel('Number of observations')\n",
        "plt.show()"
      ],
      "metadata": {
        "colab": {
          "base_uri": "https://localhost:8080/",
          "height": 279
        },
        "id": "Pnj8UzltW3DN",
        "outputId": "b7c13a33-95ea-4e7a-d912-8d7eb7832de1"
      },
      "execution_count": 6,
      "outputs": [
        {
          "output_type": "display_data",
          "data": {
            "image/png": "[encoded data removed]",
            "text/plain": [
              "<Figure size 432x288 with 1 Axes>"
            ]
          },
          "metadata": {
            "needs_background": "light"
          }
        }
      ]
    },
    {
      "cell_type": "code",
      "source": [
        "adjData = df.loc[(df['age'] > 20) & (df['salary'] < 300)]\n",
        "plt.scatter(adjData['age'], adjData['salary'])\n",
        "plt.title('Salary vs Age')\n",
        "plt.xlabel('ML experience')\n",
        "plt.ylabel('Salary')\n",
        "plt.show()"
      ],
      "metadata": {
        "colab": {
          "base_uri": "https://localhost:8080/",
          "height": 295
        },
        "id": "dG-I4ARcNXEI",
        "outputId": "ed5dc4b8-cb01-481a-c6c0-bba7ee907f69"
      },
      "execution_count": 7,
      "outputs": [
        {
          "output_type": "display_data",
          "data": {
            "image/png": "[encoded data removed]",
            "text/plain": [
              "<Figure size 432x288 with 1 Axes>"
            ]
          },
          "metadata": {
            "needs_background": "light"
          }
        }
      ]
    },
    {
      "cell_type": "markdown",
      "source": [
        "There does not seem to be a clear link between salaty and age.\n",
        "\n",
        "#### Let's see if there is a machine learning premium by comparing the salary of programmers with 4 years of experience by years of ML experience"
      ],
      "metadata": {
        "id": "-ald4HzD7Ulj"
      }
    },
    {
      "cell_type": "code",
      "source": [
        "# Excludes salaries > 200k to increase the resolution, without affecting the general conclusion\n",
        "x4 = df.loc[(df['codExperience'] == 4) & (df['salary'] < 200)]\n",
        "plt.scatter(x4['MLexperience'],x4['salary'])\n",
        "plt.title('Salary vs ML experience - 3-5 yrs coding experience')\n",
        "plt.xlabel('ML experience')\n",
        "plt.ylabel('Salary')\n",
        "plt.show()"
      ],
      "metadata": {
        "colab": {
          "base_uri": "https://localhost:8080/",
          "height": 295
        },
        "id": "2X-jZg0v1bNz",
        "outputId": "c235ca4b-bf9c-48cd-bffb-1f599a9ffae2"
      },
      "execution_count": 8,
      "outputs": [
        {
          "output_type": "display_data",
          "data": {
            "image/png": "[encoded data removed]",
            "text/plain": [
              "<Figure size 432x288 with 1 Axes>"
            ]
          },
          "metadata": {
            "needs_background": "light"
          }
        }
      ]
    },
    {
      "cell_type": "markdown",
      "source": [
        "There also seems to be a slight ML experience salary premium.\n",
        "\n",
        "Let's see if this is also the case for for programmers with 7.5 years of experience."
      ],
      "metadata": {
        "id": "Bb_ops4Y71zH"
      }
    },
    {
      "cell_type": "code",
      "source": [
        "x2 = df.loc[df['codExperience'] == 7.5]\n",
        "plt.scatter(x2['MLexperience'],x2['salary'])\n",
        "plt.title('Salary vs ML experience - 5-10 yrs coding experience')\n",
        "plt.xlabel('ML experience')\n",
        "plt.ylabel('Salary')\n",
        "plt.show()"
      ],
      "metadata": {
        "colab": {
          "base_uri": "https://localhost:8080/",
          "height": 295
        },
        "id": "WV-2fdle49Pi",
        "outputId": "dae2d27b-7e96-4f2e-a6e2-68c217a7ca9b"
      },
      "execution_count": 9,
      "outputs": [
        {
          "output_type": "display_data",
          "data": {
            "image/png": "[encoded data removed]",
            "text/plain": [
              "<Figure size 432x288 with 1 Axes>"
            ]
          },
          "metadata": {
            "needs_background": "light"
          }
        }
      ]
    },
    {
      "cell_type": "markdown",
      "source": [
        "### Let's use a ML model to see if we can better acertain if there is a ML salary premium"
      ],
      "metadata": {
        "id": "1VgfNarSGfwF"
      }
    },
    {
      "cell_type": "code",
      "source": [
        "# segment data into training and test sets\n",
        "train_data = df.sample(frac=0.8, random_state=0)\n",
        "test_data = df.drop(train_data.index)\n",
        "\n",
        "# split features from labels\n",
        "train_features = train_data.copy()\n",
        "test_features = test_data.copy()\n",
        "\n",
        "train_labels = train_features.pop('salary')\n",
        "test_labels = test_features.pop('salary')"
      ],
      "metadata": {
        "id": "UXZFVTBF6uUo"
      },
      "execution_count": 10,
      "outputs": []
    },
    {
      "cell_type": "code",
      "source": [
        "# Use normalization layer to prevent the scale of the inputs from affecting the gradient and output scale.\n",
        "normalizer = tf.keras.layers.Normalization(axis=-1)\n",
        "normalizer.adapt(train_features)"
      ],
      "metadata": {
        "id": "9zE-FHJ4toJM"
      },
      "execution_count": 11,
      "outputs": []
    },
    {
      "cell_type": "code",
      "source": [
        "model = tf.keras.Sequential([\n",
        "  normalizer,\n",
        "  tf.keras.layers.Dense(1)\n",
        "])"
      ],
      "metadata": {
        "id": "d3zZL0l6B8PO"
      },
      "execution_count": 12,
      "outputs": []
    },
    {
      "cell_type": "code",
      "source": [
        "# Use mean_absolute_error to lower sensitivity to outliers\n",
        "model.compile(loss='mean_absolute_error',\n",
        "              optimizer=tf.keras.optimizers.Adam(0.4))"
      ],
      "metadata": {
        "id": "irdjLd26DHSS"
      },
      "execution_count": 41,
      "outputs": []
    },
    {
      "cell_type": "code",
      "source": [
        "history = model.fit(train_features, train_labels, epochs=15, validation_split = 0.2)"
      ],
      "metadata": {
        "id": "QyBPy2d5FKH6",
        "colab": {
          "base_uri": "https://localhost:8080/"
        },
        "outputId": "ca1f9109-d7b8-4076-9660-a9bd147edb1d"
      },
      "execution_count": 42,
      "outputs": [
        {
          "output_type": "stream",
          "name": "stdout",
          "text": [
            "Epoch 1/15\n",
            "22/22 [==============================] - 0s 9ms/step - loss: 47.1109 - val_loss: 41.8783\n",
            "Epoch 2/15\n",
            "22/22 [==============================] - 0s 3ms/step - loss: 47.0422 - val_loss: 41.9078\n",
            "Epoch 3/15\n",
            "22/22 [==============================] - 0s 4ms/step - loss: 47.0856 - val_loss: 41.9765\n",
            "Epoch 4/15\n",
            "22/22 [==============================] - 0s 3ms/step - loss: 47.0299 - val_loss: 41.8988\n",
            "Epoch 5/15\n",
            "22/22 [==============================] - 0s 3ms/step - loss: 47.0970 - val_loss: 41.8576\n",
            "Epoch 6/15\n",
            "22/22 [==============================] - 0s 3ms/step - loss: 47.0657 - val_loss: 41.9252\n",
            "Epoch 7/15\n",
            "22/22 [==============================] - 0s 5ms/step - loss: 47.0425 - val_loss: 41.8976\n",
            "Epoch 8/15\n",
            "22/22 [==============================] - 0s 4ms/step - loss: 47.0502 - val_loss: 41.9729\n",
            "Epoch 9/15\n",
            "22/22 [==============================] - 0s 3ms/step - loss: 47.0748 - val_loss: 41.9488\n",
            "Epoch 10/15\n",
            "22/22 [==============================] - 0s 5ms/step - loss: 47.0803 - val_loss: 41.9666\n",
            "Epoch 11/15\n",
            "22/22 [==============================] - 0s 4ms/step - loss: 47.1013 - val_loss: 41.9588\n",
            "Epoch 12/15\n",
            "22/22 [==============================] - 0s 3ms/step - loss: 47.0410 - val_loss: 41.8601\n",
            "Epoch 13/15\n",
            "22/22 [==============================] - 0s 4ms/step - loss: 47.0591 - val_loss: 41.9123\n",
            "Epoch 14/15\n",
            "22/22 [==============================] - 0s 4ms/step - loss: 47.0852 - val_loss: 41.9148\n",
            "Epoch 15/15\n",
            "22/22 [==============================] - 0s 5ms/step - loss: 47.1039 - val_loss: 41.9541\n"
          ]
        }
      ]
    },
    {
      "cell_type": "code",
      "source": [
        "plt.plot(history.history['loss'], label='loss')\n",
        "plt.plot(history.history['val_loss'], label='val_loss')\n",
        "plt.ylim([0, 100])\n",
        "plt.xlabel('Epoch')\n",
        "plt.ylabel('Error')\n",
        "plt.legend()\n",
        "plt.show()"
      ],
      "metadata": {
        "colab": {
          "base_uri": "https://localhost:8080/",
          "height": 283
        },
        "id": "VWs3bu946Sd7",
        "outputId": "27dd8ea2-fa95-4255-8306-53bfdf644869"
      },
      "execution_count": 44,
      "outputs": [
        {
          "output_type": "display_data",
          "data": {
            "image/png": "[encoded data removed]",
            "text/plain": [
              "<Figure size 432x288 with 1 Axes>"
            ]
          },
          "metadata": {
            "needs_background": "light"
          }
        }
      ]
    },
    {
      "cell_type": "code",
      "source": [
        "model.layers[1].kernel"
      ],
      "metadata": {
        "colab": {
          "base_uri": "https://localhost:8080/"
        },
        "id": "ir5IclXN8VeN",
        "outputId": "2f3caef8-a56c-43a1-cf60-b2bb2df092a2"
      },
      "execution_count": 45,
      "outputs": [
        {
          "output_type": "execute_result",
          "data": {
            "text/plain": [
              "<tf.Variable 'dense/kernel:0' shape=(5, 1) dtype=float32, numpy=\n",
              "array([[ 5.1657934],\n",
              "       [ 2.257345 ],\n",
              "       [ 8.111115 ],\n",
              "       [19.661709 ],\n",
              "       [ 3.2038445]], dtype=float32)>"
            ]
          },
          "metadata": {},
          "execution_count": 45
        }
      ]
    },
    {
      "cell_type": "code",
      "source": [
        "model.evaluate(test_features, test_labels, verbose=0)"
      ],
      "metadata": {
        "colab": {
          "base_uri": "https://localhost:8080/"
        },
        "id": "7hnFip1vGZeu",
        "outputId": "35fa53cb-f4e9-487a-a530-fb919a688733"
      },
      "execution_count": 46,
      "outputs": [
        {
          "output_type": "execute_result",
          "data": {
            "text/plain": [
              "52.54296875"
            ]
          },
          "metadata": {},
          "execution_count": 46
        }
      ]
    },
    {
      "cell_type": "markdown",
      "source": [
        "Let's see if we get improvement from using a additional layers"
      ],
      "metadata": {
        "id": "peynRkDN-3lT"
      }
    },
    {
      "cell_type": "code",
      "source": [
        "dnn_model = tf.keras.Sequential([\n",
        "  normalizer,\n",
        "  tf.keras.layers.Dense(5),\n",
        "  tf.keras.layers.Dense(5),\n",
        "  tf.keras.layers.Dense(1)\n",
        "])"
      ],
      "metadata": {
        "id": "eTGSedlQ-2on"
      },
      "execution_count": 18,
      "outputs": []
    },
    {
      "cell_type": "code",
      "source": [
        "dnn_model.compile(loss='mean_absolute_error',\n",
        "              optimizer=tf.keras.optimizers.Adam(0.1))"
      ],
      "metadata": {
        "id": "PKMmv67v_lb4"
      },
      "execution_count": 33,
      "outputs": []
    },
    {
      "cell_type": "code",
      "source": [
        "dnn_history = dnn_model.fit(train_features, train_labels, epochs=5, validation_split = 0.2)"
      ],
      "metadata": {
        "colab": {
          "base_uri": "https://localhost:8080/"
        },
        "id": "Io-s3iVdCheT",
        "outputId": "f46213d9-3302-450a-cc6e-b21c10f88688"
      },
      "execution_count": 34,
      "outputs": [
        {
          "output_type": "stream",
          "name": "stdout",
          "text": [
            "Epoch 1/5\n",
            "22/22 [==============================] - 1s 11ms/step - loss: 50.7747 - val_loss: 44.6953\n",
            "Epoch 2/5\n",
            "22/22 [==============================] - 0s 4ms/step - loss: 48.6608 - val_loss: 42.3596\n",
            "Epoch 3/5\n",
            "22/22 [==============================] - 0s 4ms/step - loss: 47.9335 - val_loss: 43.3585\n",
            "Epoch 4/5\n",
            "22/22 [==============================] - 0s 5ms/step - loss: 47.7590 - val_loss: 42.3931\n",
            "Epoch 5/5\n",
            "22/22 [==============================] - 0s 4ms/step - loss: 47.9143 - val_loss: 43.3801\n"
          ]
        }
      ]
    },
    {
      "cell_type": "code",
      "source": [
        "plt.plot(dnn_history.history['loss'], label='loss')\n",
        "plt.plot(dnn_history.history['val_loss'], label='val_loss')\n",
        "plt.ylim([0, 100])\n",
        "plt.xlabel('Epoch')\n",
        "plt.ylabel('Error')\n",
        "plt.legend()\n",
        "plt.show()"
      ],
      "metadata": {
        "colab": {
          "base_uri": "https://localhost:8080/",
          "height": 283
        },
        "id": "omNKHk8OClNP",
        "outputId": "af979876-eb0b-402f-f082-3a6509f6290f"
      },
      "execution_count": 35,
      "outputs": [
        {
          "output_type": "display_data",
          "data": {
            "image/png": "[encoded data removed]",
            "text/plain": [
              "<Figure size 432x288 with 1 Axes>"
            ]
          },
          "metadata": {
            "needs_background": "light"
          }
        }
      ]
    },
    {
      "cell_type": "code",
      "source": [
        "dnn_model.layers[3].kernel"
      ],
      "metadata": {
        "colab": {
          "base_uri": "https://localhost:8080/"
        },
        "id": "a5zLoTX9CpgJ",
        "outputId": "5f33292d-7217-40b0-bf9a-ff57ee6fea53"
      },
      "execution_count": 36,
      "outputs": [
        {
          "output_type": "execute_result",
          "data": {
            "text/plain": [
              "<tf.Variable 'dense_3/kernel:0' shape=(5, 1) dtype=float32, numpy=\n",
              "array([[-1.3767794],\n",
              "       [-1.4258554],\n",
              "       [ 1.2873094],\n",
              "       [ 1.7933547],\n",
              "       [ 1.5174987]], dtype=float32)>"
            ]
          },
          "metadata": {},
          "execution_count": 36
        }
      ]
    },
    {
      "cell_type": "code",
      "source": [
        "dnn_model.evaluate(test_features, test_labels, verbose=0)"
      ],
      "metadata": {
        "colab": {
          "base_uri": "https://localhost:8080/"
        },
        "id": "47JNsJM7GScy",
        "outputId": "c92ebe97-44a8-48aa-97e8-549a431e0488"
      },
      "execution_count": 37,
      "outputs": [
        {
          "output_type": "execute_result",
          "data": {
            "text/plain": [
              "52.35432052612305"
            ]
          },
          "metadata": {},
          "execution_count": 37
        }
      ]
    },
    {
      "cell_type": "markdown",
      "source": [
        "#### Predictions\n",
        "Since there does not seem to be a significant difference between the one-layer model and the three-layer, we'll use the one-layer to make predictions on the test set"
      ],
      "metadata": {
        "id": "YkpTAp6YxpiK"
      }
    },
    {
      "cell_type": "code",
      "source": [
        "predictions = dnn_model.predict(test_features)\n",
        "plt.scatter(test_labels, predictions, c='green')\n",
        "plt.xlabel('Actual salary')\n",
        "plt.ylabel('Predicted salary')\n",
        "plt.xlim([0, 200])\n",
        "plt.ylim([50, 250])\n",
        "plt.show()"
      ],
      "metadata": {
        "colab": {
          "base_uri": "https://localhost:8080/",
          "height": 283
        },
        "id": "KR8AHVZXyDWW",
        "outputId": "c3b1575a-1e8b-4cab-a3df-5482512f025f"
      },
      "execution_count": 38,
      "outputs": [
        {
          "output_type": "display_data",
          "data": {
            "image/png": "[encoded data removed]",
            "text/plain": [
              "<Figure size 432x288 with 1 Axes>"
            ]
          },
          "metadata": {
            "needs_background": "light"
          }
        }
      ]
    },
    {
      "cell_type": "markdown",
      "source": [
        "### Conclusion: The dataset makes it hard to draw definitive conclusions.  However, there seems to be a sligh premium to ML expertise\n"
      ],
      "metadata": {
        "id": "dXFsvQMAxQ6X"
      }
    }
  ]
}