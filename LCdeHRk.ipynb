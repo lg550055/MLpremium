{
  "cells": [
    {
      "cell_type": "markdown",
      "metadata": {
        "id": "view-in-github",
        "colab_type": "text"
      },
      "source": [
        "<a href=\"https://colab.research.google.com/github/lg550055/MLpremium/blob/main/LCdeHRk.ipynb\" target=\"_parent\"><img src=\"https://colab.research.google.com/assets/colab-badge.svg\" alt=\"Open In Colab\"/></a>"
      ]
    },
    {
      "cell_type": "code",
      "execution_count": null,
      "metadata": {
        "id": "VDbGKUzujnuA"
      },
      "outputs": [],
      "source": [
        "def bup(r,c): # better unique paths from (1,1) to (r,c)\n",
        "  if r==1 or c==1:\n",
        "    return 1\n",
        "  return bup(r-1, c) + bup(r, c-1)\n",
        "\n",
        "bup(3,5)"
      ]
    },
    {
      "cell_type": "code",
      "execution_count": null,
      "metadata": {
        "id": "sBgVP81eHFD_"
      },
      "outputs": [],
      "source": [
        "def powerSum(x, n):\n",
        "  r = 0\n",
        "  mx = int(x**(1/n))\n",
        "  m = [i**n for i in range(1,mx+1)]\n",
        "  \n",
        "  def ps(x, n, c=0):\n",
        "    print(c)\n",
        "    c += n.pop()\n",
        "    if c == x:\n",
        "      return 1\n",
        "    n = [i for i in m if i <= x-c]\n",
        "    if c + sum(n) < x:\n",
        "      return 0\n",
        "    else:\n",
        "      for e in n:\n",
        "        ps(x, n, c)\n",
        "\n",
        "  while m:\n",
        "    if sum(m) < x:\n",
        "      break\n",
        "    c += m.pop()\n",
        "    if c == x:\n",
        "      r += 1\n",
        "    else:\n",
        "      t = [i for i in m if i <= x-c]\n",
        "      for e in t:\n",
        "        pass\n",
        "    print('result', ps(x, m))\n",
        "\n",
        "#  return r\n",
        "\n",
        "powerSum(100, 2)"
      ]
    },
    {
      "cell_type": "markdown",
      "metadata": {
        "id": "F4pS6icGUbAi"
      },
      "source": [
        "## Leetcode / Hacker Rank"
      ]
    },
    {
      "cell_type": "code",
      "execution_count": null,
      "metadata": {
        "colab": {
          "base_uri": "https://localhost:8080/"
        },
        "id": "cxx9zDKHRxJ5",
        "outputId": "4d93ad21-daf8-430c-fae5-88c8f4619bcb"
      },
      "outputs": [
        {
          "name": "stdout",
          "output_type": "stream",
          "text": [
            "{2: [(1, 10), (3, 11)], 3: [(4, 12)]}\n",
            "(1, 10) 0\n",
            "(3, 11) 0\n",
            "(4, 12) 11\n"
          ]
        }
      ],
      "source": [
        "def nt(times, n, k):\n",
        "    a = {}\n",
        "    for t in times:\n",
        "        if t[0] in a:\n",
        "            a[t[0]] = a[t[0]] + [(t[1],t[2])]\n",
        "        else:\n",
        "            a[t[0]] = [(t[1],t[2])]\n",
        "    print(a)\n",
        "    def bfs(node, ac=0):\n",
        "        if node not in a:\n",
        "            return ac\n",
        "        for e in a[node]:\n",
        "            print(e, ac)\n",
        "            bfs(e[0], ac+e[1])\n",
        "            \n",
        "    return bfs(k)\n",
        "\n",
        "nt([[2,1,10],[2,3,11],[3,4,12]], 4, 2)"
      ]
    },
    {
      "cell_type": "code",
      "execution_count": null,
      "metadata": {
        "colab": {
          "base_uri": "https://localhost:8080/"
        },
        "id": "_URoiOL9-eOa",
        "outputId": "93008c8a-0d19-4cd4-e2f8-bf4f3e4ac3eb"
      },
      "outputs": [
        {
          "name": "stdout",
          "output_type": "stream",
          "text": [
            "g 7\n",
            "o 15\n",
            "o 15\n",
            "s 19\n",
            "e 5\n"
          ]
        }
      ],
      "source": [
        "import string\n",
        "a = string.ascii_lowercase\n",
        "w = 'goose'\n",
        "for ch in w:\n",
        "  print(ch, a.index(ch)+1)"
      ]
    },
    {
      "cell_type": "code",
      "execution_count": null,
      "metadata": {
        "colab": {
          "base_uri": "https://localhost:8080/"
        },
        "id": "VnjP7tliVlA7",
        "outputId": "3634de54-82e8-4337-bdbc-afe4209e2b6c"
      },
      "outputs": [
        {
          "data": {
            "text/plain": [
              "4"
            ]
          },
          "execution_count": 52,
          "metadata": {},
          "output_type": "execute_result"
        }
      ],
      "source": [
        "# Input: times = [[2,1,1],[2,3,1],[3,4,1]], n = 4, k = 2\n",
        "# Output: 2\n",
        "# Input: times = [[1,2,1]], n = 2, k = 1\n",
        "# Output: 1\n",
        "# Input: times = [[1,2,1]], n = 2, k = 2\n",
        "# Output: -1\n",
        "import collections\n",
        "def find(times, n , k):\n",
        "    a = {i:[] for i in range(1,n+1)}\n",
        "    for t in times:\n",
        "        u, v, w = t\n",
        "        a[u] = a[u] + [(v,w)]\n",
        "\n",
        "    vstd = []\n",
        "    q = collections.deque([(k,0)])\n",
        "    t = 0\n",
        "    while q:\n",
        "      c,w = q.popleft()\n",
        "      if c in vstd:\n",
        "        continue\n",
        "      vstd.append(c)      \n",
        "      t = w\n",
        "      for e in a[c]:\n",
        "        if e[0] not in vstd:\n",
        "          q.append( (e[0], t + e[1]) ) #accumulates time for particular seq\n",
        "    if len(vstd) < n:\n",
        "      return -1\n",
        "    return t\n",
        "\n",
        "\n",
        "# find([[2,1,1],[2,3,1],[3,4,1]], n = 4, k = 2)\n",
        "find([[1,2,1],[2,3,2],[1,3,4]], 3, 1)\n",
        "# find([[1,2,1]], n = 2, k = 1)\n",
        "# find([[1,2,1]], n = 2, k = 2)"
      ]
    },
    {
      "cell_type": "code",
      "execution_count": null,
      "metadata": {
        "colab": {
          "base_uri": "https://localhost:8080/"
        },
        "id": "A7PBipaVwDnv",
        "outputId": "9a3d3311-008c-43a2-f4fe-5b61585bed15"
      },
      "outputs": [
        {
          "data": {
            "text/plain": [
              "[]"
            ]
          },
          "execution_count": 1,
          "metadata": {},
          "output_type": "execute_result"
        }
      ],
      "source": [
        "# Input: l1 = [2,4,3], l2 = [5,6,4]\n",
        "# Output: [7,0,8]\n",
        "# Input: l1 = [0], l2 = [0]\n",
        "# Output: [0]\n",
        "# Input: l1 = [9,9,9,9,9,9,9], l2 = [9,9,9,9]\n",
        "# Output: [8,9,9,9,0,0,0,1]\n",
        "\n",
        "nc = []\n",
        "nhead = nc\n",
        "nc = [1,2]\n",
        "nhead"
      ]
    },
    {
      "cell_type": "code",
      "execution_count": null,
      "metadata": {
        "colab": {
          "base_uri": "https://localhost:8080/"
        },
        "id": "FK1NQCfspT--",
        "outputId": "695e0168-242c-4f0b-8557-129d81fbc33d"
      },
      "outputs": [
        {
          "data": {
            "text/plain": [
              "[4, 5, 1, 2, 3]"
            ]
          },
          "execution_count": 10,
          "metadata": {},
          "output_type": "execute_result"
        }
      ],
      "source": [
        "# HR Arrays: Left Rotation\n",
        "def rotLeft(a, d):\n",
        "    l = len(a)\n",
        "    ef = d % l\n",
        "    r = [0]*l\n",
        "    for i in range(l):\n",
        "        r[i-ef] = a[i]\n",
        "    return r\n",
        "\n",
        "rotLeft([1,2,3,4,5],3)"
      ]
    },
    {
      "cell_type": "code",
      "execution_count": null,
      "metadata": {
        "colab": {
          "base_uri": "https://localhost:8080/"
        },
        "id": "WIexNX3kBJ7h",
        "outputId": "a78f2a25-06fc-41fc-ffe8-c8d6655411be"
      },
      "outputs": [
        {
          "name": "stdout",
          "output_type": "stream",
          "text": [
            "a 97\n",
            "ab 195\n",
            "abb 293\n",
            "abba 390\n",
            "b 98\n",
            "bb 196\n",
            "pair bba 293\n",
            "pair b 98\n",
            "pair ba 195\n",
            "pair a 97\n"
          ]
        },
        {
          "data": {
            "text/plain": [
              "4"
            ]
          },
          "execution_count": 27,
          "metadata": {},
          "output_type": "execute_result"
        }
      ],
      "source": [
        "# HR Sherlock and Anagrams\n",
        "def grams(s):\n",
        "    size = 512\n",
        "    p = 0\n",
        "    hm = [None]*size\n",
        "    def hsh(key):\n",
        "        return (sum([ord(e) for e in str(key)]) * 1) % size\n",
        "    for i in range(len(s)):\n",
        "        for j in range(i+1,len(s)+1):\n",
        "            if hm[hsh(s[i:j])] and len(s[i:j]) == len(hm[hsh(s[i:j])][0]):\n",
        "                print('pair',s[i:j], hsh(s[i:j]))\n",
        "                p += hm[hsh(s[i:j])][1]\n",
        "                hm[hsh(s[i:j])][1] += 1\n",
        "            else:\n",
        "                hm[hsh(s[i:j])] = [s[i:j], 1]\n",
        "                print(s[i:j], hsh( s[i:j] ))\n",
        "    return p\n",
        "\n",
        "grams('abba')\n",
        "# grams('ifailuhkqq')\n",
        "# grams('kkkk')"
      ]
    },
    {
      "cell_type": "code",
      "execution_count": null,
      "metadata": {
        "colab": {
          "base_uri": "https://localhost:8080/"
        },
        "id": "WwsLiR8iRv5-",
        "outputId": "dafd51d9-5d1d-490c-9efa-ced689f48639"
      },
      "outputs": [
        {
          "data": {
            "text/plain": [
              "6"
            ]
          },
          "execution_count": 63,
          "metadata": {},
          "output_type": "execute_result"
        }
      ],
      "source": [
        "# HR Count Triplets\n",
        "def ct(arr, r):\n",
        "    d = {}\n",
        "    s = {}\n",
        "    t = 0\n",
        "    for e in arr:\n",
        "        if e/r in d:\n",
        "            t += d[e/r]\n",
        "        if e/r in s:\n",
        "            d[e] = s[e/r] if e not in d else d[e] + s[e/r]\n",
        "        s[e] = 1 if e not in s else s[e] + 1\n",
        "        # print(s,d,t)\n",
        "    return t\n",
        "\n",
        "# ct([1,2,2,4],2)\n",
        "# ct([2,2,1,1,4],2)\n",
        "# ct([2,2,1,1,2,4],2)\n",
        "# ct([1,1,2,2,4,8],2)\n",
        "# ct([1,3,9,9,27,81],3)\n",
        "# ct([1,5,5,25,125],5)\n",
        "# ct([125,1,5,5,25],5)\n",
        "# ct([1, 1, 1],1)"
      ]
    },
    {
      "cell_type": "code",
      "execution_count": null,
      "metadata": {
        "colab": {
          "base_uri": "https://localhost:8080/"
        },
        "id": "j_0E3mdkfaiz",
        "outputId": "4be7770e-5d81-4abf-84eb-629514fafe6f"
      },
      "outputs": [
        {
          "data": {
            "text/plain": [
              "[0, 1]"
            ]
          },
          "execution_count": 71,
          "metadata": {},
          "output_type": "execute_result"
        }
      ],
      "source": [
        "# HR Frequency Queries\n",
        "def freqQuery(queries):\n",
        "    d = {}\n",
        "    f = []\n",
        "    for e in queries:\n",
        "        if e[0] == 1:\n",
        "            d[e[1]] = 1 if e[1] not in d else d[e[1]] +1\n",
        "        if e[0] == 2 and e[1] in d and d[e[1]] > 0:\n",
        "            d[e[1]] -= 1\n",
        "        if e[0] == 3:\n",
        "            if e[1] in d.values():\n",
        "                f.append(1)\n",
        "            else:\n",
        "                f.append(0)\n",
        "    return f\n",
        "\n",
        "# freqQuery([(1,1),(2,2),(3,2),(1,1),(1,1),(2,1),(3,2)])\n",
        "freqQuery([(3,4),(2,1003),(1,16),(3,1)])"
      ]
    },
    {
      "cell_type": "code",
      "execution_count": null,
      "metadata": {
        "colab": {
          "base_uri": "https://localhost:8080/"
        },
        "id": "ACNebN921SzN",
        "outputId": "db539b01-0802-4906-8b74-017991954df4"
      },
      "outputs": [
        {
          "name": "stdout",
          "output_type": "stream",
          "text": [
            "0 0\n"
          ]
        }
      ],
      "source": [
        "# HR Fraudulent Activity Notifications\n",
        "def an(expenditure, d):\n",
        "    nt = 0\n",
        "    hm = {}\n",
        "    def get_med(idx):\n",
        "        s = 0\n",
        "        for i in range(201): # expenditures are between 0 - 200\n",
        "            if i in hm:\n",
        "                s += hm[i]\n",
        "                if s >= idx:\n",
        "                    return i\n",
        "    for i in range(len(expenditure)):\n",
        "        v = expenditure[i]\n",
        "        if i >= d:\n",
        "          m = get_med(d//2 +1)\n",
        "          if d%2:\n",
        "              if v >= m*2:\n",
        "                  nt += 1\n",
        "                  print(hm,v)\n",
        "          else:\n",
        "              if v >= m + get_med(d//2):\n",
        "                nt += 1\n",
        "                print(hm,v)\n",
        "          hm[expenditure[i-d]] -= 1 # remove oldest element from period\n",
        "        hm[v] = 1 if v not in hm else hm[v] +1 # add new element to period\n",
        "    return nt\n",
        "\n",
        "from statistics import median\n",
        "def an0(expenditure, d):\n",
        "    nt = 0\n",
        "    for i in range(d,len(expenditure)):\n",
        "      if expenditure[i] >= 2*median(expenditure[i-d:i]):\n",
        "        nt += 1\n",
        "        print(expenditure[i-d:i], expenditure[i])\n",
        "    return nt\n",
        "\n",
        "# e,d = [2, 3, 4, 2, 3, 6, 8, 4, 5],5\n",
        "# e,d = [2, 3, 4, 2, 3, 6, 8, 4, 5],3\n",
        "# e,d = [2, 3, 4, 2, 3, 6, 8, 4, 5],2\n",
        "# e,d = [1,2,3,4,4],4\n",
        "# e,d = [1,2,3,4,4],1\n",
        "# e,d = [1,2,3,4,4],5\n",
        "# e,d = [1,1,1,1,6,7,8,9,1,1,1,2],4\n",
        "# e,d = [1,1,1,1,6,7,8,9,1,1,1,2],2\n",
        "# e,d = [1,1,1,1,6,7,8,9,1,1,1,2],7\n",
        "# e,d = [1,1,1,1,6,7,8,9,1,1,1,2],1\n",
        "# e,d = [10,20,30,40,50],3\n",
        "# e,d = [10,20,30,40,50],1\n",
        "# e,d = [10,20,30,40,50],4\n",
        "e,d = [10,20,30,40,50],5\n",
        "# e,d = [1,2,3,4,4,2,2,4,4,5,6,1,2,1],3\n",
        "# an0(e,d)\n",
        "print(an(e,d), an0(e,d))"
      ]
    },
    {
      "cell_type": "code",
      "execution_count": null,
      "metadata": {
        "colab": {
          "base_uri": "https://localhost:8080/"
        },
        "id": "xLnyAhM21HXQ",
        "outputId": "8c69535f-caa3-45b4-b014-2ef22a41cba3"
      },
      "outputs": [
        {
          "name": "stdout",
          "output_type": "stream",
          "text": [
            "966\n"
          ]
        }
      ],
      "source": [
        "# HR NY Chaos\n",
        "def mb(q):\n",
        "  m = 0\n",
        "  for i,e in enumerate(q, 1):\n",
        "    if e-i > 2:\n",
        "      print('Too chaotic')\n",
        "      return\n",
        "    if e <= i:\n",
        "      # bribed, by how many people?\n",
        "      for j in range(max(e-2,0), i-1):\n",
        "        if q[j] > e:\n",
        "          m += 1\n",
        "  print(m)\n",
        "\n",
        "# q = [4,1,2,3]\n",
        "# q = [2, 1, 5, 3, 4]\n",
        "# q = [2, 1, 5, 4, 3]\n",
        "# mb([2, 5, 1, 3, 4])\n",
        "# mb([5,1,2,3,7,8,6,4])\n",
        "# mb([1,2,5,3,7,8,6,4])\n",
        "# mb([1,2,5,3,4,7,8,6])\n",
        "# mb([1,2,5,3,4,9,7,8,6])\n",
        "s = '2 1 5 6 3 4 9 8 11 7 10 14 13 12 17 16 15 19 18 22 20 24 23 21 27 28 25 26 30 29 33 32 31 35 36 34 39 38 37 42 40'\n",
        "s2 = '2 1 5 6 3 4 9 8 11 7 10 14 13 12 17 16 15 19 18 22 20 24 23 21 27 28 25 26 30 29 33 32 31 35 36 34 39 38 37 42 40 44 41 43 47 46 48 45 50 52 49 51 54 56 55 53 59 58 57 61 63 60 65 64 67 68 62 69 66 72 70 74 73 71 77 75 79 78 81 82 80 76 85 84 83 86 89 90 88 87 92 91 95 94 93 98 97 100 96 102 99 104 101 105 103 108 106 109 107 112 111 110 113 116 114 118 119 117 115 122 121 120 124 123 127 125 126 130 129 128 131 133 135 136 132 134 139 140 138 137 143 141 144 146 145 142 148 150 147 149 153 152 155 151 157 154 158 159 156 161 160 164 165 163 167 166 162 170 171 172 168 169 175 173 174 177 176 180 181 178 179 183 182 184 187 188 185 190 189 186 191 194 192 196 197 195 199 193 198 202 200 204 205 203 207 206 201 210 209 211 208 214 215 216 212 218 217 220 213 222 219 224 221 223 227 226 225 230 231 229 228 234 235 233 237 232 239 236 241 238 240 243 242 246 245 248 249 250 247 244 253 252 251 256 255 258 254 257 259 261 262 263 265 264 260 268 266 267 271 270 273 269 274 272 275 278 276 279 277 282 283 280 281 286 284 288 287 290 289 285 293 291 292 296 294 298 297 299 295 302 301 304 303 306 300 305 309 308 307 312 311 314 315 313 310 316 319 318 321 320 317 324 325 322 323 328 327 330 326 332 331 329 335 334 333 336 338 337 341 340 339 344 343 342 347 345 349 346 351 350 348 353 355 352 357 358 354 356 359 361 360 364 362 366 365 363 368 370 367 371 372 369 374 373 376 375 378 379 377 382 381 383 380 386 387 384 385 390 388 392 391 389 393 396 397 394 398 395 401 400 403 402 399 405 407 406 409 408 411 410 404 413 412 415 417 416 414 420 419 422 421 418 424 426 423 425 428 427 431 430 429 434 435 436 437 432 433 440 438 439 443 441 445 442 447 444 448 446 449 452 451 450 455 453 454 457 456 460 459 458 463 462 464 461 467 465 466 470 469 472 468 474 471 475 473 477 476 480 479 478 483 482 485 481 487 484 489 490 491 488 492 486 494 495 496 498 493 500 499 497 502 504 501 503 507 506 505 509 511 508 513 510 512 514 516 518 519 515 521 522 520 524 517 523 525 526 529 527 531 528 533 532 534 530 537 536 539 535 541 538 540 543 544 542 547 548 545 549 546 552 550 551 554 553 557 555 556 560 559 558 563 562 564 561 567 568 566 565 569 572 571 570 575 574 577 576 579 573 580 578 583 581 584 582 587 586 585 590 589 588 593 594 592 595 591 598 599 596 597 602 603 604 605 600 601 608 609 607 611 612 606 610 615 616 614 613 619 618 617 622 620 624 621 626 625 623 628 627 631 630 633 629 635 632 637 636 634 638 640 642 639 641 645 644 647 643 646 650 648 652 653 654 649 651 656 658 657 655 661 659 660 663 664 666 662 668 667 670 665 671 673 669 672 676 677 674 679 675 680 678 681 684 682 686 685 683 689 690 688 687 693 692 691 696 695 698 694 700 701 702 697 704 699 706 703 705 709 707 711 712 710 708 713 716 715 714 718 720 721 719 723 717 722 726 725 724 729 728 727 730 733 732 735 734 736 731 738 737 741 739 740 744 743 742 747 746 745 750 748 752 749 753 751 756 754 758 755 757 761 760 759 764 763 762 767 765 768 766 771 770 769 774 773 776 772 778 777 779 775 781 780 783 784 782 786 788 789 787 790 785 793 791 792 796 795 794 798 797 801 799 803 800 805 802 804 808 806 807 811 809 810 814 812 813 817 816 819 818 815 820 821 823 822 824 826 827 825 828 831 829 830 834 833 836 832 837 839 838 841 835 840 844 842 846 845 843 849 847 851 850 852 848 855 854 853 857 856 858 861 862 860 859 863 866 865 864 867 870 869 868 872 874 875 871 873 877 878 876 880 881 879 884 883 885 882 888 886 890 891 889 893 887 895 892 896 898 894 899 897 902 901 903 905 900 904 908 907 910 909 906 912 911 915 913 916 918 914 919 921 917 923 920 924 922 927 925 929 928 926 932 931 934 930 933 935 937 939 940 938 936 943 944 942 941 947 946 948 945 951 950 949 953 952 956 954 958 957 955 961 962 963 959 964 966 960 965 969 968 971 967 970 974 972 976 973 975 979 977 981 982 978 980 983 986 984 985 989 988 987 990 993 991 995 994 997 992 999 1000 996 998'\n",
        "r = 966\n",
        "q = list(map(int, s2.rstrip().split()))\n",
        "mb(q)"
      ]
    },
    {
      "cell_type": "code",
      "execution_count": null,
      "metadata": {
        "colab": {
          "background_save": true,
          "base_uri": "https://localhost:8080/"
        },
        "id": "b4lML4ZyZL1q",
        "outputId": "7560c243-0b24-45ca-d894-545c919730f8"
      },
      "outputs": [
        {
          "data": {
            "text/plain": [
              "2"
            ]
          },
          "execution_count": null,
          "metadata": {},
          "output_type": "execute_result"
        }
      ],
      "source": [
        "#HR Strings: Making Anagrams\n",
        "def makeAnagram(a, b):\n",
        "  e = 0\n",
        "  d = {}\n",
        "  for ch in a:\n",
        "    d[ch] = 1 if ch not in d else d[ch] +1\n",
        "  for ch in b:\n",
        "    d[ch] = -1 if ch not in d else d[ch] -1\n",
        "  for v in d.values():\n",
        "    e += abs(v)\n",
        "  \n",
        "  return e\n",
        "\n",
        "# test cases\n",
        "# a = 'cde'\n",
        "# b = 'abc'\n",
        "a = 'cde'\n",
        "b = 'dcf'\n",
        "makeAnagram(a, b)"
      ]
    },
    {
      "cell_type": "code",
      "source": [
        "# HR Alternating Characters\n",
        "def ac(s):\n",
        "  d = 0\n",
        "  for i in range(len(s)-1):\n",
        "    if s[i] == s[i+1]:\n",
        "      d += 1\n",
        "  return d\n",
        "\n",
        "#tests\n",
        "# s = 'AABAAB' # 2\n",
        "# s = 'AAAA' # 3\n",
        "# s = 'BABABA' # 0\n",
        "s = 'AAABBB' # 4\n",
        "ac(s)"
      ],
      "metadata": {
        "colab": {
          "base_uri": "https://localhost:8080/"
        },
        "id": "uFJXfqLfcxvc",
        "outputId": "bdd5747a-765f-409e-9cad-35cd6f86f6ff"
      },
      "execution_count": 48,
      "outputs": [
        {
          "output_type": "execute_result",
          "data": {
            "text/plain": [
              "4"
            ]
          },
          "metadata": {},
          "execution_count": 48
        }
      ]
    },
    {
      "cell_type": "code",
      "source": [
        "# HR Sherlock and the Valid String\n",
        "def isValid(s):\n",
        "  d = {}\n",
        "  for ch in s:\n",
        "    d[ch] = 1 if ch not in d else d[ch] +1\n",
        "  l = d.values()\n",
        "  s = sorted(l)\n",
        "  ls = len(s)\n",
        "  sms = sum(s)\n",
        "  if s[0] == 1 and (sms <= ls +1 or sms == s[-1]*(ls-1)+1):\n",
        "    return 'YES'\n",
        "  if sms == s[0]*ls or sms == s[0]*ls +1:\n",
        "    return 'YES'\n",
        "  return 'NO'\n",
        "\n",
        "# tests\n",
        "t = 'aaabbbcc' # n\n",
        "# t = 'abc' # y\n",
        "# t = 'abcc' # y\n",
        "# t = 'cabc' # y\n",
        "# t = 'abccc' # n\n",
        "# t = 'aabbcd' # n\n",
        "# t = 'abcdefghhgfedecba' # y\n",
        "# t = 'aabbccddeefghi' # n\n",
        "# t = 'ibfdgaeadiaefgbhbdghhhbgdfgeiccbiehhfcggchgghadhdhagfbahhddgghbdehidbibaeaagaeeigffcebfbaieggabcfbiiedcabfihchdfabifahcbhagccbdfifhghcadfiadeeaheeddddiecaicbgigccageicehfdhdgafaddhffadigfhhcaedcedecafeacbdacgfgfeeibgaiffdehigebhhehiaahfidibccdcdagifgaihacihadecgifihbebffebdfbchbgigeccahgihbcbcaggebaaafgfedbfgagfediddghdgbgehhhifhgcedechahidcbchebheihaadbbbiaiccededchdagfhccfdefigfibifabeiaccghcegfbcghaefifbachebaacbhbfgfddeceababbacgffbagidebeadfihaefefegbghgddbbgddeehgfbhafbccidebgehifafgbghafacgfdccgifdcbbbidfifhdaibgigebigaedeaaiadegfefbhacgddhchgcbgcaeaieiegiffchbgbebgbehbbfcebciiagacaiechdigbgbghefcahgbhfibhedaeeiffebdiabcifgccdefabccdghehfibfiifdaicfedagahhdcbhbicdgibgcedieihcichadgchgbdcdagaihebbabhibcihicadgadfcihdheefbhffiageddhgahaidfdhhdbgciiaciegchiiebfbcbhaeagccfhbfhaddagnfieihghfbaggiffbbfbecgaiiidccdceadbbdfgigibgcgchafccdchgifdeieicbaididhfcfdedbhaadedfageigfdehgcdaecaebebebfcieaecfagfdieaefdiedbcadchabhebgehiidfcgahcdhcdhgchhiiheffiifeegcfdgbdeffhgeghdfhbfbifgidcafbfcd'\n",
        "isValid(t)"
      ],
      "metadata": {
        "colab": {
          "base_uri": "https://localhost:8080/",
          "height": 38
        },
        "id": "ugQrYGJTewYl",
        "outputId": "bf08685e-8691-4701-ea5b-678d322e4a79"
      },
      "execution_count": 94,
      "outputs": [
        {
          "output_type": "execute_result",
          "data": {
            "text/plain": [
              "'NO'"
            ],
            "application/vnd.google.colaboratory.intrinsic+json": {
              "type": "string"
            }
          },
          "metadata": {},
          "execution_count": 94
        }
      ]
    },
    {
      "cell_type": "code",
      "source": [
        "# HR Special String Again\n",
        "def substrCount(n, s):\n",
        "  c = n\n",
        "  for i in range(n):\n",
        "    lc = 1\n",
        "    sw = 1\n",
        "    for j in range(i+1,n):\n",
        "      if sw == -1 and s[j] != s[i]:\n",
        "        break\n",
        "      if s[j] == s[i]:\n",
        "        lc += 1*sw\n",
        "        if sw == 1:\n",
        "          c += 1\n",
        "        if lc == 0:\n",
        "          c += 1\n",
        "          break\n",
        "      else:\n",
        "        sw = -1\n",
        "  return c\n",
        "\n",
        "# tests\n",
        "# s = 'mnonopoo'\n",
        "# s = 'asasd'\n",
        "# s = 'abcbaba'\n",
        "# s = 'aaaa'\n",
        "n = len(s)\n",
        "substrCount(n, s)"
      ],
      "metadata": {
        "colab": {
          "base_uri": "https://localhost:8080/"
        },
        "id": "ltYO_R6K9RBj",
        "outputId": "65f9e8da-3804-4ffd-e6e0-90df9fe5a842"
      },
      "execution_count": 7,
      "outputs": [
        {
          "output_type": "execute_result",
          "data": {
            "text/plain": [
              "10"
            ]
          },
          "metadata": {},
          "execution_count": 7
        }
      ]
    }
  ],
  "metadata": {
    "colab": {
      "collapsed_sections": [],
      "name": "LCdeHRk.ipynb",
      "provenance": [],
      "authorship_tag": "ABX9TyPv5/JAEZkTzecifgP4UMv7",
      "include_colab_link": true
    },
    "kernelspec": {
      "display_name": "Python 3",
      "name": "python3"
    },
    "language_info": {
      "name": "python"
    }
  },
  "nbformat": 4,
  "nbformat_minor": 0
}